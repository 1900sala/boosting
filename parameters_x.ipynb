{
 "cells": [
  {
   "cell_type": "code",
   "execution_count": null,
   "metadata": {},
   "outputs": [],
   "source": [
    "params = {\n",
    "    'task': 'train',\n",
    "    'boosting_type': 'gbdt',\n",
    "    'objective': 'reg:linear',\n",
    "    # 'eval_metric': 'auc',\n",
    "    # 'eta': 0.005,\n",
    "    'max_depth': 6,\n",
    "    # # 'silent': 1,\n",
    "    # 'lambda': 50,\n",
    "    # 'subsample': 0.7,\n",
    "    # 'colsample_bytree': 0.7,\n",
    "    # 'gamma': 0.2,\n",
    "    # 'nthread': 7,\n",
    "    'alpha': 100\n",
    "\n",
    "         }\n",
    "\n",
    "\n",
    "\n",
    "rightbound = 90\n",
    "num_rounds = 1000\n",
    "bufferbound = 70\n",
    "early = 20"
   ]
  }
 ],
 "metadata": {
  "kernelspec": {
   "display_name": "Python 3",
   "language": "python",
   "name": "python3"
  },
  "language_info": {
   "codemirror_mode": {
    "name": "ipython",
    "version": 3
   },
   "file_extension": ".py",
   "mimetype": "text/x-python",
   "name": "python",
   "nbconvert_exporter": "python",
   "pygments_lexer": "ipython3",
   "version": "3.6.8"
  }
 },
 "nbformat": 4,
 "nbformat_minor": 2
}
