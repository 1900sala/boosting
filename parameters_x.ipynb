{
 "cells": [
  {
   "cell_type": "code",
   "execution_count": 1,
   "metadata": {},
   "outputs": [],
   "source": [
    "params = {\n",
    "    'task': 'train',\n",
    "    'booster': 'dart',\n",
    "#     'boosting_type': 'gbdt',\n",
    "    # 'eval_metric': 'auc',\n",
    "    # 'eta': 0.005,\n",
    "    'max_depth': 6,\n",
    "    # 'lambda': 50,\n",
    "#     'subsample': 0.9,\n",
    "#     'colsample_bytree': 0.9,\n",
    "    # 'gamma': 0.2,\n",
    "#     'rate_drop': 0.1,\n",
    "#     'skip_drop': 0.5,\n",
    "    'nthread': 15,\n",
    "    'alpha': 100\n",
    "         }\n",
    "num_rounds =1000\n",
    "early = 45"
   ]
  },
  {
   "cell_type": "code",
   "execution_count": null,
   "metadata": {},
   "outputs": [],
   "source": []
  },
  {
   "cell_type": "code",
   "execution_count": null,
   "metadata": {},
   "outputs": [],
   "source": []
  }
 ],
 "metadata": {
  "kernelspec": {
   "display_name": "Python 3",
   "language": "python",
   "name": "python3"
  },
  "language_info": {
   "codemirror_mode": {
    "name": "ipython",
    "version": 3
   },
   "file_extension": ".py",
   "mimetype": "text/x-python",
   "name": "python",
   "nbconvert_exporter": "python",
   "pygments_lexer": "ipython3",
   "version": "3.6.8"
  }
 },
 "nbformat": 4,
 "nbformat_minor": 2
}
