{
 "cells": [
  {
   "cell_type": "markdown",
   "metadata": {},
   "source": [
    "# 读取930interval数据"
   ]
  },
  {
   "cell_type": "code",
   "execution_count": null,
   "metadata": {},
   "outputs": [],
   "source": [
    "import pandas as pd\n",
    "import numpy as np\n",
    "import matplotlib.pyplot as plt\n",
    "import Ipynb_importer\n",
    "import seaborn as sns\n",
    "import datetime\n",
    "from scipy.stats import norm\n",
    "sns.set(style=\"darkgrid\")\n",
    "import logging\n",
    "import time\n",
    "import os"
   ]
  },
  {
   "cell_type": "code",
   "execution_count": null,
   "metadata": {},
   "outputs": [],
   "source": []
  },
  {
   "cell_type": "code",
   "execution_count": null,
   "metadata": {},
   "outputs": [],
   "source": [
    "def func(path):\n",
    "    path_list = []\n",
    "    for i in os.listdir(path):\n",
    "        path_list.append(i)\n",
    "    return path_list"
   ]
  },
  {
   "cell_type": "code",
   "execution_count": null,
   "metadata": {},
   "outputs": [],
   "source": [
    "path = '/data/share/china_stocks/data/main_intervals/stock_interval/930'\n",
    "stocks_begin_interval = func(path)\n",
    "t1 = datetime.datetime(2010,1,1)\n",
    "t2 = datetime.datetime(2019,7,1)\n",
    "\n",
    "begin_interval_df = pd.DataFrame()\n",
    "for s in range(len(stocks_begin_interval)):\n",
    "    if s%100 == 0:\n",
    "        print(s)\n",
    "    temp = pd.read_csv(os.path.join(path, stocks_begin_interval[s]))\n",
    "    temp[\"time\"] = pd.to_datetime(temp[\"time\"])\n",
    "    temp = temp[(temp[\"time\"]>=t1)&(temp[\"time\"]<t2)]\n",
    "    begin_interval_df = begin_interval_df.append(temp)"
   ]
  },
  {
   "cell_type": "code",
   "execution_count": null,
   "metadata": {},
   "outputs": [],
   "source": [
    "begin_interval_df = begin_interval_df[[\"id\", \"time\", \"open_mid\", \"close_mid\",\"type\"]]\n",
    "begin_interval_df = begin_interval_df.reset_index(drop=True)\n",
    "begin_interval_df[\"date_time\"] = pd.to_datetime(begin_interval_df[\"time\"].dt.floor(\"d\"))\n",
    "begin_interval_df[\"unique_symbol\"] = begin_interval_df[\"id\"].apply(lambda x:str(x)[-6:])\n",
    "begin_interval_df[\"930open_mid\"] = begin_interval_df.apply(lambda x: np.nan if x[\"type\"]== -100 else x[\"open_mid\"], axis=1)\n",
    "begin_interval_df[\"930close_mid\"] = begin_interval_df.apply(lambda x: np.nan if x[\"type\"]== -100 else x[\"close_mid\"], axis=1)\n",
    "gb = begin_interval_df.groupby([\"unique_symbol\"])\n",
    "begin_interval_df[\"t+1_930open_mid\"] = gb[\"930open_mid\"].transform(lambda x: x.shift(-1))\n",
    "begin_interval_df[\"t+1_930close_mid\"] = gb[\"930close_mid\"].transform(lambda x: x.shift(-1))"
   ]
  },
  {
   "cell_type": "code",
   "execution_count": null,
   "metadata": {},
   "outputs": [],
   "source": [
    "res = begin_interval_df[[\"date_time\", \"930open_mid\", \"930close_mid\", \"t+1_930open_mid\", \"t+1_930close_mid\", \"unique_symbol\", \"type\"]]"
   ]
  },
  {
   "cell_type": "code",
   "execution_count": null,
   "metadata": {},
   "outputs": [],
   "source": [
    "res.to_csv(\"930_interval.csv\")"
   ]
  },
  {
   "cell_type": "code",
   "execution_count": null,
   "metadata": {},
   "outputs": [],
   "source": []
  },
  {
   "cell_type": "code",
   "execution_count": null,
   "metadata": {},
   "outputs": [],
   "source": []
  },
  {
   "cell_type": "code",
   "execution_count": null,
   "metadata": {},
   "outputs": [],
   "source": [
    "res = pd.read_csv(\"930_interval.csv\")"
   ]
  },
  {
   "cell_type": "code",
   "execution_count": null,
   "metadata": {},
   "outputs": [],
   "source": [
    "res[\"date_time\"] = pd.to_datetime(res[\"date_time\"])"
   ]
  },
  {
   "cell_type": "code",
   "execution_count": null,
   "metadata": {},
   "outputs": [],
   "source": [
    "res[\"type\"]"
   ]
  },
  {
   "cell_type": "code",
   "execution_count": null,
   "metadata": {},
   "outputs": [],
   "source": [
    "q1 = res[(res[\"unique_symbol\"] == 2682)] "
   ]
  },
  {
   "cell_type": "code",
   "execution_count": null,
   "metadata": {},
   "outputs": [],
   "source": [
    "t1 = datetime.datetime(2016,3,31)\n",
    "q1[(res[\"date_time\"]>t1)]"
   ]
  },
  {
   "cell_type": "code",
   "execution_count": null,
   "metadata": {},
   "outputs": [],
   "source": []
  }
 ],
 "metadata": {
  "kernelspec": {
   "display_name": "Python 3",
   "language": "python",
   "name": "python3"
  },
  "language_info": {
   "codemirror_mode": {
    "name": "ipython",
    "version": 3
   },
   "file_extension": ".py",
   "mimetype": "text/x-python",
   "name": "python",
   "nbconvert_exporter": "python",
   "pygments_lexer": "ipython3",
   "version": "3.6.8"
  }
 },
 "nbformat": 4,
 "nbformat_minor": 2
}
