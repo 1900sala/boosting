{
 "cells": [
  {
   "cell_type": "code",
   "execution_count": 1,
   "metadata": {},
   "outputs": [
    {
     "name": "stdout",
     "output_type": "stream",
     "text": [
      "importing Jupyter notebook from utils_x.ipynb\n",
      "importing Jupyter notebook from parameters_x.ipynb\n",
      "------------------- load data--------------------\n",
      "------------------- pre data--------------------\n",
      "close\n",
      "turnover\n",
      "open\n",
      "high\n",
      "low\n",
      "volume\n",
      "wap\n"
     ]
    }
   ],
   "source": [
    "import pandas as pd\n",
    "import numpy as np\n",
    "import matplotlib.pyplot as plt\n",
    "import Ipynb_importer\n",
    "from utils_x import *\n",
    "from parameters_x import *\n",
    "\n",
    "all_col = ['unique_symbol', 'date_time', 'close', 'turnover', 'open', 'high', 'low', 'volume',\"use_tag\"]\n",
    "shift_col = ['close', 'turnover', 'open', 'high', 'low', 'volume', 'wap']\n",
    "p_col = ['close', 'open', 'high', 'low']\n",
    "v_col = ['turnover', 'volume', 'wap']\n",
    "\n",
    "print(\"------------------- load data--------------------\")\n",
    "data = pd.read_csv('index300_v2.csv', dtype=object)\n",
    "\n",
    "\n",
    "print(\"------------------- pre data--------------------\")\n",
    "data = data[all_col].copy()\n",
    "data['turnover'] = data['turnover'].apply(lambda x:np.float(x))\n",
    "data['volume'] = data['volume'].apply(lambda x:np.float(x))\n",
    "data['open'] = data['open'].apply(lambda x:np.float(x))\n",
    "data['close'] = data['close'].apply(lambda x:np.float(x))\n",
    "data['high'] = data['high'].apply(lambda x:np.float(x))\n",
    "data['low'] = data['low'].apply(lambda x:np.float(x))\n",
    "\n",
    "data['wap'] = data['turnover']/data['volume']\n",
    "gb = data.groupby(['unique_symbol'])['open']\n",
    "data['t+1_open'] = gb.transform(lambda x: x.shift(-1))\n",
    "data['t+2_open'] = gb.transform(lambda x: x.shift(-2))\n",
    "data['return'] = data.apply(lambda x: x['t+2_open']/x['t+1_open']-1, axis=1)\n",
    "data = data[~(data['return'] > 0.11)].copy()\n",
    "data = data[~(data['return'] < -0.11)].copy()\n",
    "\n",
    "# gb_m = data.groupby(['stock_name'])['money']\n",
    "# data['buy_money'] = gb_m.transform(lambda x: x.shift(-1))\n",
    "# data['sell_money'] = gb_m.transform(lambda x: x.shift(-2))\n",
    "data = data[~data['return'].isnull()].copy()\n",
    "gb = data.groupby(['date_time'])['return']\n",
    "data['label'] = gb.transform(lambda x: (x-x.mean())/x.std())\n",
    "data['rank_label'] = gb.transform(lambda x: pd.qcut(x.rank(method='first'), 10, labels=False))\n",
    "\n",
    "\n",
    "# print(\"------------------- shift data--------------------\")\n",
    "shift_day = 30\n",
    "for col in shift_col:\n",
    "    print(col)\n",
    "    gb_col = \"unique_symbol\"\n",
    "    data = nshift(data, gb_col, col, shift_day)\n",
    "for col in p_col:\n",
    "    data = norm_pcol(data, col, shift_day)\n",
    "for col in v_col:\n",
    "    data = norm_vcol(data, col, shift_day)\n",
    "\n",
    "\n",
    "\n"
   ]
  },
  {
   "cell_type": "code",
   "execution_count": 5,
   "metadata": {},
   "outputs": [
    {
     "name": "stdout",
     "output_type": "stream",
     "text": [
      "['close', 'close1', 'close10', 'close11', 'close12', 'close13', 'close14', 'close15', 'close16', 'close17', 'close18', 'close19', 'close2', 'close20', 'close21', 'close22', 'close23', 'close24', 'close25', 'close26', 'close27', 'close28', 'close29', 'close3', 'close4', 'close5', 'close6', 'close7', 'close8', 'close9', 'high', 'high1', 'high10', 'high11', 'high12', 'high13', 'high14', 'high15', 'high16', 'high17', 'high18', 'high19', 'high2', 'high20', 'high21', 'high22', 'high23', 'high24', 'high25', 'high26', 'high27', 'high28', 'high29', 'high3', 'high4', 'high5', 'high6', 'high7', 'high8', 'high9', 'low', 'low1', 'low10', 'low11', 'low12', 'low13', 'low14', 'low15', 'low16', 'low17', 'low18', 'low19', 'low2', 'low20', 'low21', 'low22', 'low23', 'low24', 'low25', 'low26', 'low27', 'low28', 'low29', 'low3', 'low4', 'low5', 'low6', 'low7', 'low8', 'low9', 'open', 'open1', 'open10', 'open11', 'open12', 'open13', 'open14', 'open15', 'open16', 'open17', 'open18', 'open19', 'open2', 'open20', 'open21', 'open22', 'open23', 'open24', 'open25', 'open26', 'open27', 'open28', 'open29', 'open3', 'open4', 'open5', 'open6', 'open7', 'open8', 'open9', 'turnover', 'turnover1', 'turnover10', 'turnover11', 'turnover12', 'turnover13', 'turnover14', 'turnover15', 'turnover16', 'turnover17', 'turnover18', 'turnover19', 'turnover2', 'turnover20', 'turnover21', 'turnover22', 'turnover23', 'turnover24', 'turnover25', 'turnover26', 'turnover27', 'turnover28', 'turnover29', 'turnover3', 'turnover4', 'turnover5', 'turnover6', 'turnover7', 'turnover8', 'turnover9', 'volume', 'volume1', 'volume10', 'volume11', 'volume12', 'volume13', 'volume14', 'volume15', 'volume16', 'volume17', 'volume18', 'volume19', 'volume2', 'volume20', 'volume21', 'volume22', 'volume23', 'volume24', 'volume25', 'volume26', 'volume27', 'volume28', 'volume29', 'volume3', 'volume4', 'volume5', 'volume6', 'volume7', 'volume8', 'volume9', 'wap', 'wap1', 'wap10', 'wap11', 'wap12', 'wap13', 'wap14', 'wap15', 'wap16', 'wap17', 'wap18', 'wap19', 'wap2', 'wap20', 'wap21', 'wap22', 'wap23', 'wap24', 'wap25', 'wap26', 'wap27', 'wap28', 'wap29', 'wap3', 'wap4', 'wap5', 'wap6', 'wap7', 'wap8', 'wap9']\n",
      "210\n"
     ]
    }
   ],
   "source": [
    "data =  data[data[\"use_tag\"] == \"1\"].copy()\n",
    "n_use_f = set(np.array(['unique_symbol', 'date_time', 't+1_open','t+2_open', 'return', 'label', 'rank_label', \"use_tag\"]))\n",
    "use_f = list(set(np.array(data.columns)) - n_use_f)\n",
    "print(sorted(use_f))\n",
    "print(len(use_f))\n",
    "data.to_csv(\"index300_v3.csv\")"
   ]
  },
  {
   "cell_type": "code",
   "execution_count": null,
   "metadata": {},
   "outputs": [],
   "source": []
  }
 ],
 "metadata": {
  "kernelspec": {
   "display_name": "Python 3",
   "language": "python",
   "name": "python3"
  },
  "language_info": {
   "codemirror_mode": {
    "name": "ipython",
    "version": 3
   },
   "file_extension": ".py",
   "mimetype": "text/x-python",
   "name": "python",
   "nbconvert_exporter": "python",
   "pygments_lexer": "ipython3",
   "version": "3.6.8"
  }
 },
 "nbformat": 4,
 "nbformat_minor": 2
}
