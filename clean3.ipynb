{
 "cells": [
  {
   "cell_type": "code",
   "execution_count": 1,
   "metadata": {},
   "outputs": [
    {
     "name": "stdout",
     "output_type": "stream",
     "text": [
      "importing Jupyter notebook from utils_x.ipynb\n",
      "importing Jupyter notebook from parameters_x.ipynb\n"
     ]
    }
   ],
   "source": [
    "import pandas as pd\n",
    "import numpy as np\n",
    "import matplotlib.pyplot as plt\n",
    "import Ipynb_importer\n",
    "from utils_x import *\n",
    "from parameters_x import *\n",
    "\n",
    "all_col = ['unique_symbol', 'date_time', 'close', 'turnover', 'open', 'high', 'low', 'volume',\"use_tag\", \"adjustment\", \"adjustment_cumsum\"]\n",
    "shift_col = ['close', 'turnover', 'open', 'high', 'low', 'volume', 'wap', \"adjustment_cumsum\"]"
   ]
  },
  {
   "cell_type": "markdown",
   "metadata": {},
   "source": [
    "# clean3 对数据进行 factor处理后 根据clean2标记的tag准备训练数据"
   ]
  },
  {
   "cell_type": "code",
   "execution_count": 2,
   "metadata": {},
   "outputs": [
    {
     "name": "stdout",
     "output_type": "stream",
     "text": [
      "------------------- load data--------------------\n",
      "------------------- pre data--------------------\n",
      "---------------- pre data step 1-----------------\n"
     ]
    }
   ],
   "source": [
    "print(\"------------------- load data--------------------\")\n",
    "# data = pd.read_csv('index500_v2.csv', dtype=object)\n",
    "data = pd.read_csv('index500_v2_adjustment.csv', dtype=object)\n",
    "data[\"adjustment\"] =  data[\"adjustment\"].fillna(0)\n",
    "\n",
    "\n",
    "print(\"------------------- pre data--------------------\")\n",
    "data = data[all_col].copy()\n",
    "data['turnover'] = data['turnover'].apply(lambda x:np.float(x))\n",
    "data['volume'] = data['volume'].apply(lambda x:np.float(x))\n",
    "data['open'] = data['open'].apply(lambda x:np.float(x))\n",
    "data['close'] = data['close'].apply(lambda x:np.float(x))\n",
    "data['high'] = data['high'].apply(lambda x:np.float(x))\n",
    "data['low'] = data['low'].apply(lambda x:np.float(x))\n",
    "data['adjustment'] = data['adjustment'].apply(lambda x:np.float(x))\n",
    "data['adjustment_cumsum'] = data['adjustment_cumsum'].apply(lambda x:np.float(x))\n",
    "print(\"---------------- pre data step 1-----------------\")\n",
    "\n"
   ]
  },
  {
   "cell_type": "code",
   "execution_count": 3,
   "metadata": {},
   "outputs": [],
   "source": [
    "data[\"date_time\"]  = pd.to_datetime(data[\"date_time\"])"
   ]
  },
  {
   "cell_type": "code",
   "execution_count": 4,
   "metadata": {},
   "outputs": [
    {
     "data": {
      "text/html": [
       "<div>\n",
       "<style scoped>\n",
       "    .dataframe tbody tr th:only-of-type {\n",
       "        vertical-align: middle;\n",
       "    }\n",
       "\n",
       "    .dataframe tbody tr th {\n",
       "        vertical-align: top;\n",
       "    }\n",
       "\n",
       "    .dataframe thead th {\n",
       "        text-align: right;\n",
       "    }\n",
       "</style>\n",
       "<table border=\"1\" class=\"dataframe\">\n",
       "  <thead>\n",
       "    <tr style=\"text-align: right;\">\n",
       "      <th></th>\n",
       "      <th>unique_symbol</th>\n",
       "      <th>date_time</th>\n",
       "      <th>close</th>\n",
       "      <th>turnover</th>\n",
       "      <th>open</th>\n",
       "      <th>high</th>\n",
       "      <th>low</th>\n",
       "      <th>volume</th>\n",
       "      <th>use_tag</th>\n",
       "      <th>adjustment</th>\n",
       "      <th>adjustment_cumsum</th>\n",
       "    </tr>\n",
       "  </thead>\n",
       "  <tbody>\n",
       "    <tr>\n",
       "      <td>241</td>\n",
       "      <td>600499</td>\n",
       "      <td>2010-01-29</td>\n",
       "      <td>23.46</td>\n",
       "      <td>109666784.0</td>\n",
       "      <td>23.50</td>\n",
       "      <td>24.10</td>\n",
       "      <td>23.30</td>\n",
       "      <td>4619500.0</td>\n",
       "      <td>1</td>\n",
       "      <td>0.0</td>\n",
       "      <td>0.000000</td>\n",
       "    </tr>\n",
       "    <tr>\n",
       "      <td>2249</td>\n",
       "      <td>600499</td>\n",
       "      <td>2010-02-01</td>\n",
       "      <td>24.63</td>\n",
       "      <td>180840480.0</td>\n",
       "      <td>23.31</td>\n",
       "      <td>24.67</td>\n",
       "      <td>23.20</td>\n",
       "      <td>7563900.0</td>\n",
       "      <td>1</td>\n",
       "      <td>0.0</td>\n",
       "      <td>0.000000</td>\n",
       "    </tr>\n",
       "    <tr>\n",
       "      <td>3913</td>\n",
       "      <td>600499</td>\n",
       "      <td>2010-02-02</td>\n",
       "      <td>24.14</td>\n",
       "      <td>147885120.0</td>\n",
       "      <td>24.79</td>\n",
       "      <td>25.11</td>\n",
       "      <td>23.69</td>\n",
       "      <td>6094300.0</td>\n",
       "      <td>1</td>\n",
       "      <td>0.0</td>\n",
       "      <td>0.000000</td>\n",
       "    </tr>\n",
       "    <tr>\n",
       "      <td>5587</td>\n",
       "      <td>600499</td>\n",
       "      <td>2010-02-03</td>\n",
       "      <td>24.48</td>\n",
       "      <td>154885040.0</td>\n",
       "      <td>24.36</td>\n",
       "      <td>25.90</td>\n",
       "      <td>23.30</td>\n",
       "      <td>6459000.0</td>\n",
       "      <td>1</td>\n",
       "      <td>0.0</td>\n",
       "      <td>0.000000</td>\n",
       "    </tr>\n",
       "    <tr>\n",
       "      <td>7260</td>\n",
       "      <td>600499</td>\n",
       "      <td>2010-02-04</td>\n",
       "      <td>23.87</td>\n",
       "      <td>102963520.0</td>\n",
       "      <td>24.47</td>\n",
       "      <td>24.47</td>\n",
       "      <td>23.69</td>\n",
       "      <td>4289600.0</td>\n",
       "      <td>1</td>\n",
       "      <td>0.0</td>\n",
       "      <td>0.000000</td>\n",
       "    </tr>\n",
       "    <tr>\n",
       "      <td>...</td>\n",
       "      <td>...</td>\n",
       "      <td>...</td>\n",
       "      <td>...</td>\n",
       "      <td>...</td>\n",
       "      <td>...</td>\n",
       "      <td>...</td>\n",
       "      <td>...</td>\n",
       "      <td>...</td>\n",
       "      <td>...</td>\n",
       "      <td>...</td>\n",
       "      <td>...</td>\n",
       "    </tr>\n",
       "    <tr>\n",
       "      <td>4552104</td>\n",
       "      <td>600499</td>\n",
       "      <td>2017-12-25</td>\n",
       "      <td>10.91</td>\n",
       "      <td>285138121.0</td>\n",
       "      <td>10.88</td>\n",
       "      <td>11.07</td>\n",
       "      <td>10.68</td>\n",
       "      <td>26194715.0</td>\n",
       "      <td>1</td>\n",
       "      <td>0.0</td>\n",
       "      <td>-15.044615</td>\n",
       "    </tr>\n",
       "    <tr>\n",
       "      <td>4555356</td>\n",
       "      <td>600499</td>\n",
       "      <td>2017-12-26</td>\n",
       "      <td>10.93</td>\n",
       "      <td>182643286.0</td>\n",
       "      <td>10.90</td>\n",
       "      <td>10.99</td>\n",
       "      <td>10.75</td>\n",
       "      <td>16819957.0</td>\n",
       "      <td>1</td>\n",
       "      <td>0.0</td>\n",
       "      <td>-15.044615</td>\n",
       "    </tr>\n",
       "    <tr>\n",
       "      <td>4558603</td>\n",
       "      <td>600499</td>\n",
       "      <td>2017-12-27</td>\n",
       "      <td>11.15</td>\n",
       "      <td>782294534.0</td>\n",
       "      <td>11.47</td>\n",
       "      <td>11.85</td>\n",
       "      <td>11.12</td>\n",
       "      <td>68338688.0</td>\n",
       "      <td>1</td>\n",
       "      <td>0.0</td>\n",
       "      <td>-15.044615</td>\n",
       "    </tr>\n",
       "    <tr>\n",
       "      <td>4561852</td>\n",
       "      <td>600499</td>\n",
       "      <td>2017-12-28</td>\n",
       "      <td>10.87</td>\n",
       "      <td>427856166.0</td>\n",
       "      <td>11.10</td>\n",
       "      <td>11.23</td>\n",
       "      <td>10.77</td>\n",
       "      <td>39072457.0</td>\n",
       "      <td>1</td>\n",
       "      <td>0.0</td>\n",
       "      <td>-15.044615</td>\n",
       "    </tr>\n",
       "    <tr>\n",
       "      <td>4565095</td>\n",
       "      <td>600499</td>\n",
       "      <td>2017-12-29</td>\n",
       "      <td>11.09</td>\n",
       "      <td>252512387.0</td>\n",
       "      <td>10.80</td>\n",
       "      <td>11.13</td>\n",
       "      <td>10.71</td>\n",
       "      <td>23094594.0</td>\n",
       "      <td>1</td>\n",
       "      <td>0.0</td>\n",
       "      <td>-15.044615</td>\n",
       "    </tr>\n",
       "  </tbody>\n",
       "</table>\n",
       "<p>1704 rows × 11 columns</p>\n",
       "</div>"
      ],
      "text/plain": [
       "        unique_symbol  date_time  close     turnover   open   high    low  \\\n",
       "241            600499 2010-01-29  23.46  109666784.0  23.50  24.10  23.30   \n",
       "2249           600499 2010-02-01  24.63  180840480.0  23.31  24.67  23.20   \n",
       "3913           600499 2010-02-02  24.14  147885120.0  24.79  25.11  23.69   \n",
       "5587           600499 2010-02-03  24.48  154885040.0  24.36  25.90  23.30   \n",
       "7260           600499 2010-02-04  23.87  102963520.0  24.47  24.47  23.69   \n",
       "...               ...        ...    ...          ...    ...    ...    ...   \n",
       "4552104        600499 2017-12-25  10.91  285138121.0  10.88  11.07  10.68   \n",
       "4555356        600499 2017-12-26  10.93  182643286.0  10.90  10.99  10.75   \n",
       "4558603        600499 2017-12-27  11.15  782294534.0  11.47  11.85  11.12   \n",
       "4561852        600499 2017-12-28  10.87  427856166.0  11.10  11.23  10.77   \n",
       "4565095        600499 2017-12-29  11.09  252512387.0  10.80  11.13  10.71   \n",
       "\n",
       "             volume use_tag  adjustment  adjustment_cumsum  \n",
       "241       4619500.0       1         0.0           0.000000  \n",
       "2249      7563900.0       1         0.0           0.000000  \n",
       "3913      6094300.0       1         0.0           0.000000  \n",
       "5587      6459000.0       1         0.0           0.000000  \n",
       "7260      4289600.0       1         0.0           0.000000  \n",
       "...             ...     ...         ...                ...  \n",
       "4552104  26194715.0       1         0.0         -15.044615  \n",
       "4555356  16819957.0       1         0.0         -15.044615  \n",
       "4558603  68338688.0       1         0.0         -15.044615  \n",
       "4561852  39072457.0       1         0.0         -15.044615  \n",
       "4565095  23094594.0       1         0.0         -15.044615  \n",
       "\n",
       "[1704 rows x 11 columns]"
      ]
     },
     "execution_count": 4,
     "metadata": {},
     "output_type": "execute_result"
    }
   ],
   "source": [
    "data[(data[\"unique_symbol\"] == \"600499\")]"
   ]
  },
  {
   "cell_type": "code",
   "execution_count": 5,
   "metadata": {},
   "outputs": [
    {
     "data": {
      "text/plain": [
       "27270    0.000000\n",
       "28946    0.000000\n",
       "30625    0.000000\n",
       "32312    0.000000\n",
       "34004    0.000000\n",
       "35698    0.000000\n",
       "37420   -5.714615\n",
       "39142   -5.714615\n",
       "40804   -5.714615\n",
       "42532   -5.714615\n",
       "44247   -5.714615\n",
       "45930   -5.714615\n",
       "47618   -5.714615\n",
       "49342   -5.714615\n",
       "51057   -5.714615\n",
       "52724   -5.714615\n",
       "Name: adjustment_cumsum, dtype: float64"
      ]
     },
     "execution_count": 5,
     "metadata": {},
     "output_type": "execute_result"
    }
   ],
   "source": [
    "data[(data[\"unique_symbol\"] == \"600499\") & (data[\"date_time\"].dt.year == 2010)& (data[\"date_time\"].dt.month == 3)][\"adjustment_cumsum\"]"
   ]
  },
  {
   "cell_type": "code",
   "execution_count": 6,
   "metadata": {},
   "outputs": [
    {
     "name": "stdout",
     "output_type": "stream",
     "text": [
      "------------- open shift done --------------------\n"
     ]
    }
   ],
   "source": [
    "data['wap'] = data['turnover']/data['volume']\n",
    "gb = data.groupby(['unique_symbol'])['open']\n",
    "data['t+1_open'] = gb.transform(lambda x: x.shift(-1))\n",
    "data['t+2_open'] = gb.transform(lambda x: x.shift(-2))\n",
    "print(\"------------- open shift done --------------------\")"
   ]
  },
  {
   "cell_type": "code",
   "execution_count": 7,
   "metadata": {},
   "outputs": [
    {
     "name": "stdout",
     "output_type": "stream",
     "text": [
      "------------- y data done --------------------\n"
     ]
    }
   ],
   "source": [
    "gb = data.groupby(['unique_symbol'])['adjustment']\n",
    "data['t+2_adjustment'] = gb.transform(lambda x: x.shift(-2))\n",
    "data[\"y_open\"] = data[\"t+2_open\"] - data['t+2_adjustment']\n",
    "data['return'] = data.apply(lambda x: (x['y_open'])/x['t+1_open']-1, axis=1)\n",
    "print(\"------------- y data done --------------------\")"
   ]
  },
  {
   "cell_type": "code",
   "execution_count": 8,
   "metadata": {},
   "outputs": [],
   "source": [
    "# data[data[\"unique_symbol\"] == \"000016\"][\"open\"].mean()"
   ]
  },
  {
   "cell_type": "code",
   "execution_count": 9,
   "metadata": {},
   "outputs": [
    {
     "name": "stdout",
     "output_type": "stream",
     "text": [
      "4560228\n",
      "---------------- shift data-------------------\n",
      "close\n",
      "turnover\n",
      "open\n",
      "high\n",
      "low\n",
      "volume\n",
      "wap\n",
      "adjustment_cumsum\n"
     ]
    }
   ],
   "source": [
    "p_col = ['close', 'open', 'high', 'low', 'wap']\n",
    "v_col = ['turnover', 'volume']\n",
    "\n",
    "data = data[~(data['return'] > 0.25)].copy()\n",
    "data = data[~(data['return'] < -0.25)].copy()\n",
    "data = data[~data['return'].isnull()].copy()\n",
    "\n",
    "\n",
    "print(len(data))\n",
    "print(\"---------------- shift data-------------------\")\n",
    "shift_day = 15\n",
    "for col in shift_col:\n",
    "    print(col)\n",
    "    gb_col = \"unique_symbol\"\n",
    "    data = nshift(data, gb_col, col, shift_day)\n",
    "for col in p_col:\n",
    "    adjust_col = \"adjustment_cumsum\"    \n",
    "    data = norm_pcol(data, col, adjust_col, shift_day)\n",
    "for col in v_col:\n",
    "    data = norm_vcol(data, col, shift_day)"
   ]
  },
  {
   "cell_type": "code",
   "execution_count": 10,
   "metadata": {},
   "outputs": [],
   "source": [
    "data.to_csv(\"index500_v3_adjustment_new.csv\")"
   ]
  }
 ],
 "metadata": {
  "kernelspec": {
   "display_name": "Python 3",
   "language": "python",
   "name": "python3"
  },
  "language_info": {
   "codemirror_mode": {
    "name": "ipython",
    "version": 3
   },
   "file_extension": ".py",
   "mimetype": "text/x-python",
   "name": "python",
   "nbconvert_exporter": "python",
   "pygments_lexer": "ipython3",
   "version": "3.6.8"
  }
 },
 "nbformat": 4,
 "nbformat_minor": 2
}
