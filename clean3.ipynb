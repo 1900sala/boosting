{
 "cells": [
  {
   "cell_type": "code",
   "execution_count": null,
   "metadata": {},
   "outputs": [],
   "source": [
    "import pandas as pd\n",
    "import numpy as np\n",
    "import matplotlib.pyplot as plt\n",
    "import Ipynb_importer\n",
    "from utils_x import *\n",
    "from parameters_x import *\n",
    "\n",
    "all_col = ['unique_symbol', 'date_time', 'close', 'turnover', 'open', 'high', 'low', 'volume',\"use_tag\", \"adjustment\", \"adjustment_cumsum\"]\n",
    "shift_col = ['close', 'turnover', 'open', 'high', 'low', 'volume', 'wap', \"adjustment_cumsum\"]"
   ]
  },
  {
   "cell_type": "markdown",
   "metadata": {},
   "source": [
    "# clean3 对数据进行 factor处理后 根据clean2标记的tag准备训练数据"
   ]
  },
  {
   "cell_type": "code",
   "execution_count": null,
   "metadata": {},
   "outputs": [],
   "source": [
    "p_col = ['close', 'open', 'high', 'low']\n",
    "v_col = ['turnover', 'volume', 'wap']\n",
    "\n",
    "print(\"------------------- load data--------------------\")\n",
    "# data = pd.read_csv('index500_v2.csv', dtype=object)\n",
    "data = pd.read_csv('index500_v2_adjustment.csv', dtype=object)\n",
    "data[\"adjustment\"] =  data[\"adjustment\"].fillna(0)\n",
    "\n",
    "\n",
    "print(\"------------------- pre data--------------------\")\n",
    "data = data[all_col].copy()\n",
    "data['turnover'] = data['turnover'].apply(lambda x:np.float(x))\n",
    "data['volume'] = data['volume'].apply(lambda x:np.float(x))\n",
    "data['open'] = data['open'].apply(lambda x:np.float(x))\n",
    "data['close'] = data['close'].apply(lambda x:np.float(x))\n",
    "data['high'] = data['high'].apply(lambda x:np.float(x))\n",
    "data['low'] = data['low'].apply(lambda x:np.float(x))\n",
    "data['adjustment'] = data['adjustment'].apply(lambda x:np.float(x))\n",
    "data['adjustment_cumsum'] = data['adjustment_cumsum'].apply(lambda x:np.float(x))\n",
    "print(\"---------------- pre data step 1-----------------\")\n"
   ]
  },
  {
   "cell_type": "code",
   "execution_count": null,
   "metadata": {},
   "outputs": [],
   "source": [
    "data['wap'] = data['turnover']/data['volume']\n",
    "gb = data.groupby(['unique_symbol'])['open']\n",
    "data['t+1_open'] = gb.transform(lambda x: x.shift(-1))\n",
    "data['t+2_open'] = gb.transform(lambda x: x.shift(-2))\n",
    "print(\"------------- open shift done --------------------\")"
   ]
  },
  {
   "cell_type": "code",
   "execution_count": null,
   "metadata": {},
   "outputs": [],
   "source": [
    "gb = data.groupby(['unique_symbol'])['adjustment']\n",
    "data['t+2_adjustment'] = gb.transform(lambda x: x.shift(-2))\n",
    "data[\"y_open\"] = data[\"t+2_open\"] - data['t+2_adjustment']\n",
    "data['return'] = data.apply(lambda x: (x['y_open'])/x['t+1_open']-1, axis=1)\n",
    "print(\"------------- y data done --------------------\")"
   ]
  },
  {
   "cell_type": "code",
   "execution_count": null,
   "metadata": {},
   "outputs": [],
   "source": [
    "# data[data[\"unique_symbol\"] == \"000016\"][\"open\"].mean()"
   ]
  },
  {
   "cell_type": "code",
   "execution_count": null,
   "metadata": {},
   "outputs": [],
   "source": [
    "data = data[~(data['return'] > 0.25)].copy()\n",
    "data = data[~(data['return'] < -0.25)].copy()\n",
    "\n",
    "\n",
    "data = data[~data['return'].isnull()].copy()\n",
    "gb = data.groupby(['date_time'])['return']\n",
    "data['label'] = gb.transform(lambda x: (x-x.mean())/x.std())\n",
    "data['rank_label'] = gb.transform(lambda x: pd.qcut(x.rank(method='first'), 10, labels=False, duplicates=\"drop\"))\n",
    "\n",
    "print(len(data))\n",
    "print(\"---------------- shift data-------------------\")\n",
    "shift_day = 15\n",
    "for col in shift_col:\n",
    "    print(col)\n",
    "    gb_col = \"unique_symbol\"\n",
    "    data = nshift(data, gb_col, col, shift_day)\n",
    "for col in p_col:\n",
    "    adjust_col = \"adjustment_cumsum\"    \n",
    "    data = norm_pcol(data, col, adjust_col, shift_day)\n",
    "for col in v_col:\n",
    "    data = norm_vcol(data, col, shift_day)"
   ]
  },
  {
   "cell_type": "code",
   "execution_count": null,
   "metadata": {},
   "outputs": [],
   "source": [
    "data.to_csv(\"index500_v3_adjustment.csv\")"
   ]
  },
  {
   "cell_type": "code",
   "execution_count": null,
   "metadata": {},
   "outputs": [],
   "source": []
  }
 ],
 "metadata": {
  "kernelspec": {
   "display_name": "Python 3",
   "language": "python",
   "name": "python3"
  },
  "language_info": {
   "codemirror_mode": {
    "name": "ipython",
    "version": 3
   },
   "file_extension": ".py",
   "mimetype": "text/x-python",
   "name": "python",
   "nbconvert_exporter": "python",
   "pygments_lexer": "ipython3",
   "version": "3.6.8"
  }
 },
 "nbformat": 4,
 "nbformat_minor": 2
}
