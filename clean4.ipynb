{
 "cells": [
  {
   "cell_type": "markdown",
   "metadata": {},
   "source": [
    "# 读取930interval数据"
   ]
  },
  {
   "cell_type": "code",
   "execution_count": null,
   "metadata": {},
   "outputs": [],
   "source": [
    "import pandas as pd\n",
    "import numpy as np\n",
    "import matplotlib.pyplot as plt\n",
    "import Ipynb_importer\n",
    "from utils_x import *\n",
    "from parameters_x import *\n",
    "import seaborn as sns\n",
    "import datetime\n",
    "from scipy.stats import norm\n",
    "sns.set(style=\"darkgrid\")\n",
    "import logging\n",
    "import time\n",
    "import os"
   ]
  },
  {
   "cell_type": "code",
   "execution_count": 2,
   "metadata": {},
   "outputs": [],
   "source": [
    "path = '/data/share/china_stocks/data/main_intervals/stock_interval/930'"
   ]
  },
  {
   "cell_type": "code",
   "execution_count": 3,
   "metadata": {},
   "outputs": [],
   "source": [
    "def func(path):\n",
    "    path_list = []\n",
    "    for i in os.listdir(path):\n",
    "        path_list.append(i)\n",
    "    return path_list"
   ]
  },
  {
   "cell_type": "code",
   "execution_count": 4,
   "metadata": {},
   "outputs": [],
   "source": [
    "stocks_begin_interval = func(path)\n",
    "t1 = datetime.datetime(2010,1,1)\n",
    "t2 = datetime.datetime(2018,1,1)"
   ]
  },
  {
   "cell_type": "code",
   "execution_count": 5,
   "metadata": {},
   "outputs": [
    {
     "name": "stdout",
     "output_type": "stream",
     "text": [
      "0\n",
      "100\n",
      "200\n",
      "300\n",
      "400\n",
      "500\n",
      "600\n",
      "700\n",
      "800\n",
      "900\n",
      "1000\n",
      "1100\n",
      "1200\n",
      "1300\n",
      "1400\n",
      "1500\n",
      "1600\n",
      "1700\n",
      "1800\n",
      "1900\n",
      "2000\n",
      "2100\n",
      "2200\n",
      "2300\n",
      "2400\n",
      "2500\n",
      "2600\n",
      "2700\n",
      "2800\n",
      "2900\n",
      "3000\n",
      "3100\n",
      "3200\n",
      "3300\n",
      "3400\n",
      "3500\n",
      "3600\n",
      "3700\n"
     ]
    }
   ],
   "source": [
    "begin_interval_df = pd.DataFrame()\n",
    "for s in range(len(stocks_begin_interval)):\n",
    "    if s%100 == 0:\n",
    "        print(s)\n",
    "    temp = pd.read_csv(os.path.join(path, stocks_begin_interval[s]))\n",
    "    temp[\"time\"] = pd.to_datetime(temp[\"time\"])\n",
    "    temp = temp[(temp[\"time\"]>=t1)&(temp[\"time\"]<t2)]\n",
    "    begin_interval_df = begin_interval_df.append(temp)"
   ]
  },
  {
   "cell_type": "code",
   "execution_count": 6,
   "metadata": {},
   "outputs": [],
   "source": [
    "begin_interval_df = begin_interval_df[[\"id\", \"time\", \"open_mid\", \"close_mid\",\"type\"]]"
   ]
  },
  {
   "cell_type": "code",
   "execution_count": 7,
   "metadata": {},
   "outputs": [],
   "source": [
    "begin_interval_df1 = begin_interval_df.reset_index(drop=True)"
   ]
  },
  {
   "cell_type": "code",
   "execution_count": 8,
   "metadata": {},
   "outputs": [],
   "source": [
    "begin_interval_df1[\"date_time\"] = pd.to_datetime(begin_interval_df1[\"time\"].dt.floor(\"d\"))"
   ]
  },
  {
   "cell_type": "code",
   "execution_count": 10,
   "metadata": {},
   "outputs": [],
   "source": [
    "begin_interval_df1[\"unique_symbol\"] = begin_interval_df1[\"id\"].apply(lambda x:str(x)[-6:])"
   ]
  },
  {
   "cell_type": "code",
   "execution_count": 11,
   "metadata": {},
   "outputs": [],
   "source": [
    "res = begin_interval_df1[[\"date_time\", \"open_mid\", \"close_mid\", \"t+1_open_mid\", \"t+1_close_mid\", \"unique_symbol\", \"type\"]]"
   ]
  },
  {
   "cell_type": "code",
   "execution_count": 12,
   "metadata": {},
   "outputs": [
    {
     "data": {
      "text/html": [
       "<div>\n",
       "<style scoped>\n",
       "    .dataframe tbody tr th:only-of-type {\n",
       "        vertical-align: middle;\n",
       "    }\n",
       "\n",
       "    .dataframe tbody tr th {\n",
       "        vertical-align: top;\n",
       "    }\n",
       "\n",
       "    .dataframe thead th {\n",
       "        text-align: right;\n",
       "    }\n",
       "</style>\n",
       "<table border=\"1\" class=\"dataframe\">\n",
       "  <thead>\n",
       "    <tr style=\"text-align: right;\">\n",
       "      <th></th>\n",
       "      <th>date_time</th>\n",
       "      <th>open_mid</th>\n",
       "      <th>close_mid</th>\n",
       "      <th>t+1_open_mid</th>\n",
       "      <th>t+1_close_mid</th>\n",
       "      <th>unique_symbol</th>\n",
       "      <th>type</th>\n",
       "    </tr>\n",
       "  </thead>\n",
       "  <tbody>\n",
       "    <tr>\n",
       "      <td>0</td>\n",
       "      <td>2010-01-04</td>\n",
       "      <td>15.795</td>\n",
       "      <td>15.795</td>\n",
       "      <td>16.130</td>\n",
       "      <td>16.130</td>\n",
       "      <td>600888</td>\n",
       "      <td>0</td>\n",
       "    </tr>\n",
       "    <tr>\n",
       "      <td>1</td>\n",
       "      <td>2010-01-05</td>\n",
       "      <td>16.130</td>\n",
       "      <td>16.130</td>\n",
       "      <td>17.925</td>\n",
       "      <td>17.925</td>\n",
       "      <td>600888</td>\n",
       "      <td>0</td>\n",
       "    </tr>\n",
       "    <tr>\n",
       "      <td>2</td>\n",
       "      <td>2010-01-06</td>\n",
       "      <td>17.925</td>\n",
       "      <td>17.925</td>\n",
       "      <td>19.380</td>\n",
       "      <td>19.380</td>\n",
       "      <td>600888</td>\n",
       "      <td>0</td>\n",
       "    </tr>\n",
       "    <tr>\n",
       "      <td>3</td>\n",
       "      <td>2010-01-07</td>\n",
       "      <td>19.380</td>\n",
       "      <td>19.380</td>\n",
       "      <td>19.795</td>\n",
       "      <td>19.795</td>\n",
       "      <td>600888</td>\n",
       "      <td>-100</td>\n",
       "    </tr>\n",
       "    <tr>\n",
       "      <td>4</td>\n",
       "      <td>2010-01-08</td>\n",
       "      <td>19.795</td>\n",
       "      <td>19.795</td>\n",
       "      <td>20.155</td>\n",
       "      <td>20.155</td>\n",
       "      <td>600888</td>\n",
       "      <td>0</td>\n",
       "    </tr>\n",
       "    <tr>\n",
       "      <td>...</td>\n",
       "      <td>...</td>\n",
       "      <td>...</td>\n",
       "      <td>...</td>\n",
       "      <td>...</td>\n",
       "      <td>...</td>\n",
       "      <td>...</td>\n",
       "      <td>...</td>\n",
       "    </tr>\n",
       "    <tr>\n",
       "      <td>4597290</td>\n",
       "      <td>2017-12-25</td>\n",
       "      <td>15.140</td>\n",
       "      <td>15.140</td>\n",
       "      <td>14.650</td>\n",
       "      <td>14.650</td>\n",
       "      <td>600718</td>\n",
       "      <td>0</td>\n",
       "    </tr>\n",
       "    <tr>\n",
       "      <td>4597291</td>\n",
       "      <td>2017-12-26</td>\n",
       "      <td>14.650</td>\n",
       "      <td>14.650</td>\n",
       "      <td>14.775</td>\n",
       "      <td>14.775</td>\n",
       "      <td>600718</td>\n",
       "      <td>0</td>\n",
       "    </tr>\n",
       "    <tr>\n",
       "      <td>4597292</td>\n",
       "      <td>2017-12-27</td>\n",
       "      <td>14.775</td>\n",
       "      <td>14.775</td>\n",
       "      <td>14.615</td>\n",
       "      <td>14.615</td>\n",
       "      <td>600718</td>\n",
       "      <td>0</td>\n",
       "    </tr>\n",
       "    <tr>\n",
       "      <td>4597293</td>\n",
       "      <td>2017-12-28</td>\n",
       "      <td>14.615</td>\n",
       "      <td>14.615</td>\n",
       "      <td>14.575</td>\n",
       "      <td>14.575</td>\n",
       "      <td>600718</td>\n",
       "      <td>0</td>\n",
       "    </tr>\n",
       "    <tr>\n",
       "      <td>4597294</td>\n",
       "      <td>2017-12-29</td>\n",
       "      <td>14.575</td>\n",
       "      <td>14.575</td>\n",
       "      <td>NaN</td>\n",
       "      <td>NaN</td>\n",
       "      <td>600718</td>\n",
       "      <td>0</td>\n",
       "    </tr>\n",
       "  </tbody>\n",
       "</table>\n",
       "<p>4597295 rows × 7 columns</p>\n",
       "</div>"
      ],
      "text/plain": [
       "         date_time  open_mid  close_mid  t+1_open_mid  t+1_close_mid  \\\n",
       "0       2010-01-04    15.795     15.795        16.130         16.130   \n",
       "1       2010-01-05    16.130     16.130        17.925         17.925   \n",
       "2       2010-01-06    17.925     17.925        19.380         19.380   \n",
       "3       2010-01-07    19.380     19.380        19.795         19.795   \n",
       "4       2010-01-08    19.795     19.795        20.155         20.155   \n",
       "...            ...       ...        ...           ...            ...   \n",
       "4597290 2017-12-25    15.140     15.140        14.650         14.650   \n",
       "4597291 2017-12-26    14.650     14.650        14.775         14.775   \n",
       "4597292 2017-12-27    14.775     14.775        14.615         14.615   \n",
       "4597293 2017-12-28    14.615     14.615        14.575         14.575   \n",
       "4597294 2017-12-29    14.575     14.575           NaN            NaN   \n",
       "\n",
       "        unique_symbol  type  \n",
       "0              600888     0  \n",
       "1              600888     0  \n",
       "2              600888     0  \n",
       "3              600888  -100  \n",
       "4              600888     0  \n",
       "...               ...   ...  \n",
       "4597290        600718     0  \n",
       "4597291        600718     0  \n",
       "4597292        600718     0  \n",
       "4597293        600718     0  \n",
       "4597294        600718     0  \n",
       "\n",
       "[4597295 rows x 7 columns]"
      ]
     },
     "execution_count": 12,
     "metadata": {},
     "output_type": "execute_result"
    }
   ],
   "source": [
    "res"
   ]
  },
  {
   "cell_type": "code",
   "execution_count": 13,
   "metadata": {},
   "outputs": [],
   "source": [
    "res.to_csv(\"begin_930_interval_df.csv\")"
   ]
  },
  {
   "cell_type": "code",
   "execution_count": null,
   "metadata": {},
   "outputs": [],
   "source": []
  }
 ],
 "metadata": {
  "kernelspec": {
   "display_name": "Python 3",
   "language": "python",
   "name": "python3"
  },
  "language_info": {
   "codemirror_mode": {
    "name": "ipython",
    "version": 3
   },
   "file_extension": ".py",
   "mimetype": "text/x-python",
   "name": "python",
   "nbconvert_exporter": "python",
   "pygments_lexer": "ipython3",
   "version": "3.6.8"
  }
 },
 "nbformat": 4,
 "nbformat_minor": 2
}
