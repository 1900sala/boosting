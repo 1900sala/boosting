{
 "cells": [
  {
   "cell_type": "code",
   "execution_count": 1,
   "metadata": {},
   "outputs": [],
   "source": [
    "import pandas as pd\n",
    "import numpy as np\n",
    "import matplotlib.pyplot as plt\n",
    "import seaborn as sns\n",
    "import datetime\n",
    "import utils_x\n",
    "import xgboost as xgb\n",
    "from scipy.stats import norm\n",
    "from utils_x import pos_neg_corr\n",
    "from utils_x import factor_yhat_corr\n",
    "from utils_x import train_op\n",
    "from utils_x import InverseNormalCDF\n",
    "from utils_x import plot_conditional_expectation\n",
    "from utils_x import combine_plus\n",
    "from utils_x import combine_mult\n",
    "from utils_x import single_train\n",
    "from utils_x import get_forecast\n",
    "sns.set(style=\"darkgrid\")\n",
    "import logging\n",
    "import time\n",
    "import itertools\n",
    "import imp"
   ]
  },
  {
   "cell_type": "code",
   "execution_count": 2,
   "metadata": {},
   "outputs": [],
   "source": [
    "all_col = ['unique_symbol', 'date_time', 'close', 'turnover', 'open', 'high', 'low', 'volume',\\\n",
    "           \"use_tag300\", \"use_tag500\", \"use_tag50\", \"adjustment\", \"adjustment_cumsum\"]"
   ]
  },
  {
   "cell_type": "code",
   "execution_count": 3,
   "metadata": {},
   "outputs": [
    {
     "name": "stdout",
     "output_type": "stream",
     "text": [
      "---------------------------------------------------- load and merge -------------------------------------------------------------\n"
     ]
    },
    {
     "name": "stderr",
     "output_type": "stream",
     "text": [
      "/usr/local/lib/python3.6/dist-packages/numpy/lib/arraysetops.py:571: FutureWarning: elementwise comparison failed; returning scalar instead, but in the future will perform elementwise comparison\n",
      "  mask |= (ar1 == a)\n"
     ]
    },
    {
     "name": "stdout",
     "output_type": "stream",
     "text": [
      "------------------------------------------------------ return factor-----------------------------------------------------------------\n",
      "CPU times: user 44.9 s, sys: 12.5 s, total: 57.4 s\n",
      "Wall time: 57.3 s\n"
     ]
    }
   ],
   "source": [
    "%%time\n",
    "print(\"---------------------------------------------------- load and merge -------------------------------------------------------------\")\n",
    "data = pd.read_csv('index500_v2_adjustment.csv', index_col=0)\n",
    "data[\"date_time\"]  = pd.to_datetime(data[\"date_time\"])\n",
    "data = data[all_col].copy()\n",
    "data['wap'] = data['turnover']/data['volume']\n",
    "data[\"adjustment\"] =  data[\"adjustment\"].fillna(0)\n",
    "\n",
    "\n",
    "begin_interval_df = pd.read_csv('930_interval.csv', index_col=0)\n",
    "begin_interval_df[\"date_time\"] = pd.to_datetime(begin_interval_df[\"date_time\"])\n",
    "index500_df = pd.read_csv('index500_open.csv', index_col=0)\n",
    "index500_df[\"date_time\"]  = pd.to_datetime(index500_df[\"date_time\"])\n",
    "index300_df = pd.read_csv('index300_open.csv', index_col=0)\n",
    "index300_df[\"date_time\"]  = pd.to_datetime(index300_df[\"date_time\"])\n",
    "index50_df = pd.read_csv('index50_open.csv', index_col=0)\n",
    "index50_df[\"date_time\"]  = pd.to_datetime(index50_df[\"date_time\"])\n",
    "future_df = pd.read_csv('future500_open.csv', index_col=0)\n",
    "future_df[\"date_time\"]  = pd.to_datetime(future_df[\"date_time\"])\n",
    "market_cap = pd.read_csv('market_cap.csv', index_col=0)\n",
    "market_cap[\"date_time\"]  = pd.to_datetime(market_cap[\"date_time\"])\n",
    "\n",
    "data = pd.merge(data, begin_interval_df, how=\"left\", on=['unique_symbol','date_time'])\n",
    "data = pd.merge(data, market_cap, how=\"left\", on=['unique_symbol','date_time'])\n",
    "data = pd.merge(data, index500_df, how=\"left\", on=['date_time'])\n",
    "data = pd.merge(data, index300_df, how=\"left\", on=['date_time'])\n",
    "data = pd.merge(data, index50_df, how=\"left\", on=['date_time'])\n",
    "data = pd.merge(data, future_df, how=\"left\", on=['date_time'])\n",
    "\n",
    "print(\"------------------------------------------------------ return factor-----------------------------------------------------------------\")\n",
    "gb_unique_symbol = data.groupby([\"unique_symbol\"])\n",
    "data[\"close_y1\"] = gb_unique_symbol[\"close\"].transform(lambda x: x.shift(1))\n",
    "data[\"open_y1\"] = gb_unique_symbol[\"open\"].transform(lambda x: x.shift(1))\n",
    "data[\"high_y1\"] = gb_unique_symbol[\"high\"].transform(lambda x: x.shift(1))\n",
    "data[\"low_y1\"] = gb_unique_symbol[\"low\"].transform(lambda x: x.shift(1))\n",
    "data[\"wap_y1\"] = gb_unique_symbol[\"wap\"].transform(lambda x: x.shift(1))\n",
    "data[\"volume_y1\"] = gb_unique_symbol[\"volume\"].transform(lambda x: x.shift(1))\n",
    "data[\"turnover_y1\"] = gb_unique_symbol[\"turnover\"].transform(lambda x: x.shift(1))\n",
    "\n",
    "data[\"r_raw\"] = (data[\"close\"] -  data[\"adjustment\"])/ data[\"close_y1\"] - 1\n",
    "data[\"r_open\"] = (data[\"close\"] -  data[\"adjustment\"])/ data[\"open_y1\"] - 1\n",
    "data[\"r_high\"] = (data[\"close\"] -  data[\"adjustment\"])/ data[\"high_y1\"] - 1\n",
    "data[\"r_low\"] = (data[\"close\"] -  data[\"adjustment\"])/ data[\"low_y1\"] - 1\n",
    "data[\"r_wap\"] = (data[\"close\"] -  data[\"adjustment\"])/ data[\"wap_y1\"] - 1\n",
    "data[\"r_volume\"] = data[\"volume\"] / data[\"volume_y1\"] \n",
    "data[\"r_turnover\"] = data[\"turnover\"] / data[\"turnover_y1\"] "
   ]
  },
  {
   "cell_type": "code",
   "execution_count": null,
   "metadata": {},
   "outputs": [],
   "source": []
  },
  {
   "cell_type": "code",
   "execution_count": 4,
   "metadata": {},
   "outputs": [],
   "source": [
    "r_IH = list(data[\"r_IH\"])\n",
    "r_IF = list(data[\"r_IF\"])\n",
    "r_IC = list(data[\"r_IC\"])\n",
    "use_tag50 = list(data[\"use_tag50\"])\n",
    "use_tag300 = list(data[\"use_tag300\"])\n",
    "use_tag500 = list(data[\"use_tag500\"])\n",
    "r_index = []\n",
    "length = len(data)\n",
    "for i in range(length):\n",
    "    if use_tag50[i] == 1:\n",
    "        r_index.append(r_IH[i])\n",
    "        continue\n",
    "    if use_tag300[i] == 1:\n",
    "        r_index.append(r_IF[i])\n",
    "        continue\n",
    "    r_index.append(r_IC[i]) \n",
    "data[\"r_index\"] = r_index"
   ]
  },
  {
   "cell_type": "code",
   "execution_count": 5,
   "metadata": {},
   "outputs": [
    {
     "data": {
      "text/plain": [
       "<matplotlib.axes._subplots.AxesSubplot at 0x7fdf871f6da0>"
      ]
     },
     "execution_count": 5,
     "metadata": {},
     "output_type": "execute_result"
    },
    {
     "data": {
      "image/png": "[encoded data removed]",
      "text/plain": [
       "<Figure size 432x288 with 1 Axes>"
      ]
     },
     "metadata": {
      "needs_background": "light"
     },
     "output_type": "display_data"
    }
   ],
   "source": [
    "data.groupby([\"date_time\"])[\"r_index\"].mean().cumsum().plot(label =1)"
   ]
  },
  {
   "cell_type": "code",
   "execution_count": 6,
   "metadata": {},
   "outputs": [
    {
     "name": "stdout",
     "output_type": "stream",
     "text": [
      "----------------------------------------------------------- Y --------------------------------------------------------------------\n",
      "---------------------------------------------------- overnight factor------------------------------------------------------------\n",
      "--------------------------------------------------------- MA rr--------------------------------------------------------------------\n",
      "-------------------------------------------------------- MA r_IC------------------------------------------------------------------\n",
      "-------------------------------------------------------- MA volume ---------------------------------------------------------------\n",
      "-------------------------------------------------------- MA r1-----------------------------------------------------------------\n",
      "------------------------------------------------------ MA abs_r_raw--------------------------------------------------------------\n",
      "-------------------------------------------------------- MA r_raw----------------------------------------------------------------\n",
      "---------------------------------------------------------- MA r------------------------------------------------------------------\n",
      "------------------------------------------------------- MA turnover------------------------------------------------------------------\n"
     ]
    }
   ],
   "source": [
    "data[\"r\"] = data[\"r_raw\"] - data[\"r_index\"]\n",
    "data[\"square_r\"] = data[\"r_raw\"] * data[\"r_raw\"]\n",
    "data[\"square_r_raw\"] = data[\"r_raw\"] * data[\"r_raw\"]\n",
    "data[\"abs_r\"] = np.abs(data[\"r\"])\n",
    "data[\"abs_r_raw\"] = np.abs(data[\"r_raw\"])\n",
    "\n",
    "\n",
    "print(\"----------------------------------------------------------- Y --------------------------------------------------------------------\")\n",
    "data[\"t+1_type\"] = gb_unique_symbol[\"type\"].transform(lambda x: x.shift(-1))\n",
    "data[\"t+1_open\"] = gb_unique_symbol[\"open\"].transform(lambda x: x.shift(-1))\n",
    "data[\"t+2_open\"] = gb_unique_symbol[\"open\"].transform(lambda x: x.shift(-2))\n",
    "data['t+2_adjustment'] = gb_unique_symbol[\"adjustment\"].transform(lambda x: x.shift(-2))\n",
    "data['t+1_adjustment_cumsum'] = gb_unique_symbol['adjustment_cumsum'].transform(lambda x: x.shift(-1))\n",
    "\n",
    "data[\"y_open\"] = data[\"t+2_open\"] - data['t+2_adjustment']\n",
    "data['return'] = data['y_open'] / data['t+1_open'] - 1\n",
    "\n",
    "print(\"---------------------------------------------------- overnight factor------------------------------------------------------------\")\n",
    "data[\"limit_tag\"] = data[\"t+1_open\"]/data[\"close\"]\n",
    "data[\"r1\"]  = (data[\"t+1_930close_mid\"] - data[\"t+1_adjustment_cumsum\"] + data[\"adjustment_cumsum\"]) /data[\"open\"] -1\n",
    "\n",
    "# print(\"-------------------  EMA r --------------------\")\n",
    "# ema_r_nums = list(range(1,11)) + [0.5, 0.75, 1.25, 1.5, 1.75, 20]\n",
    "# ema_r_factor = []\n",
    "# for i in ema_r_nums: \n",
    "#     data[\"r_ema\" + str(i)] = gb_unique_symbol[\"r\"].transform(lambda x: x.ewm(halflife = i).mean())\n",
    "#     ema_r_factor.append(\"r_ema\" + str(i))\n",
    "\n",
    "print(\"--------------------------------------------------------- MA rr--------------------------------------------------------------------\")\n",
    "ma_rr_nums = list(range(1,6)) \n",
    "ma_rr_factor = []\n",
    "for i in ma_rr_nums: \n",
    "    data[\"rr_high_ma\" + str(i)] = gb_unique_symbol[\"r_high\"].transform(lambda x: x.rolling(i).mean())\n",
    "    data[\"rr_low_ma\" + str(i)] = gb_unique_symbol[\"r_low\"].transform(lambda x: x.rolling(i).mean())\n",
    "    data[\"rr_wap_ma\" + str(i)] = gb_unique_symbol[\"r_wap\"].transform(lambda x: x.rolling(i).mean())\n",
    "    data[\"rr_open_ma\" + str(i)] = gb_unique_symbol[\"r_open\"].transform(lambda x: x.rolling(i).mean())\n",
    "    ma_rr_factor.append(\"rr_high_ma\" + str(i))\n",
    "    ma_rr_factor.append(\"rr_low_ma\" + str(i))\n",
    "    ma_rr_factor.append(\"rr_wap_ma\" + str(i))\n",
    "    ma_rr_factor.append(\"rr_open_ma\" + str(i))\n",
    "\n",
    "print(\"-------------------------------------------------------- MA r_IC------------------------------------------------------------------\")\n",
    "ma_r_ic_nums = list(range(1,11)) \n",
    "ma_r_ic_factor = []\n",
    "for i in ma_r_ic_nums: \n",
    "    data[\"r_IC_ma\" + str(i)] = gb_unique_symbol[\"r_IC\"].transform(lambda x: x.rolling(i).mean())\n",
    "    ma_r_ic_factor.append(\"r_IC_ma\" + str(i))\n",
    "\n",
    "    \n",
    "for i in range(1,6): \n",
    "    data[\"abs_r_IC_ma\" + str(i)] = gb_unique_symbol[\"r_IC\"].transform(lambda x: np.abs(x).rolling(i).mean())\n",
    "    \n",
    "print(\"-------------------------------------------------------- MA volume ---------------------------------------------------------------\")\n",
    "ma_volume_nums = list(range(1,6)) \n",
    "ma_volume_factor = []\n",
    "data[\"volume_ma10\"] = gb_unique_symbol[\"r_volume\"].transform(lambda x: x.rolling(10).mean())\n",
    "data[\"turnover_ma10\"] = gb_unique_symbol[\"r_turnover\"].transform(lambda x: x.rolling(10).mean())\n",
    "for i in ma_volume_nums: \n",
    "    data[\"volume_ma\" + str(i)] = gb_unique_symbol[\"r_volume\"].transform(lambda x: x.rolling(i).mean())\n",
    "    data[\"volume_s_ma\" + str(i)] = data[\"volume_ma\" + str(i)] / (data[\"volume_ma\" + str(i)] + data[\"volume_ma10\"])\n",
    "    ma_volume_factor.append(\"volume_s_ma\" + str(i))\n",
    "    data[\"turnover_ma\" + str(i)] = gb_unique_symbol[\"r_turnover\"].transform(lambda x: x.rolling(i).mean())\n",
    "    data[\"turnover_s_ma\" + str(i)] = data[\"turnover_ma\" + str(i)] / (data[\"turnover_ma\" + str(i)] + data[\"turnover_ma10\"])\n",
    "    ma_volume_factor.append(\"turnover_s_ma\" + str(i))\n",
    "\n",
    "print(\"-------------------------------------------------------- MA r1-----------------------------------------------------------------\")\n",
    "ma_r1_nums = list(range(1,4)) \n",
    "ma_r1_factor = []\n",
    "for i in ma_r1_nums: \n",
    "    data[\"r1_ma\" + str(i)] = gb_unique_symbol[\"r1\"].transform(lambda x: x.rolling(i).mean())\n",
    "    ma_r1_factor.append(\"r1_ma\" + str(i))\n",
    "print(\"------------------------------------------------------ MA abs_r_raw--------------------------------------------------------------\")\n",
    "ma_abs_r_raw_nums = list(range(1,16)) + [20, 30]\n",
    "ma_abs_r_raw_factor = []\n",
    "for i in ma_abs_r_raw_nums: \n",
    "    data[\"abs_r_raw_ma\" + str(i)] = gb_unique_symbol[\"abs_r_raw\"].transform(lambda x: x.rolling(i).mean())\n",
    "    ma_abs_r_raw_factor.append(\"abs_r_raw_ma\" + str(i))\n",
    "print(\"-------------------------------------------------------- MA r_raw----------------------------------------------------------------\")\n",
    "ma_r_raw_nums = list(range(1,16)) + [20, 30]\n",
    "ma_r_raw_factor = []\n",
    "for i in ma_r_raw_nums: \n",
    "    data[\"r_raw_ma\" + str(i)] = gb_unique_symbol[\"r_raw\"].transform(lambda x: x.rolling(i).mean())\n",
    "    ma_r_raw_factor.append(\"r_raw_ma\" + str(i))\n",
    "    \n",
    "print(\"---------------------------------------------------------- MA r------------------------------------------------------------------\")\n",
    "ma_r_nums = list(range(1,16)) + [20, 30]\n",
    "ma_r_factor = []\n",
    "for i in ma_r_nums: \n",
    "    data[\"r_ma\" + str(i)] = gb_unique_symbol[\"r\"].transform(lambda x: x.rolling(i).mean())\n",
    "    ma_r_factor.append(\"r_ma\" + str(i))\n",
    "\n",
    "print(\"------------------------------------------------------- MA turnover------------------------------------------------------------------\")\n",
    "data[\"Turnover\"] = data[\"turnover\"]/data[\"capital\"]\n",
    "for i in list(range(1,6))+[10]: \n",
    "    data[\"Turnover_ma\" + str(i)] = gb_unique_symbol[\"Turnover\"].transform(lambda x: x.rolling(i).mean())\n",
    "    \n",
    "# print(\"------------------- EMA abs_r_raw---------------------\")\n",
    "# ema_abs_r_raw_nums = list(range(1,11)) + [0.5, 0.75, 1.25, 1.5, 1.75, 2.5]\n",
    "# ema_abs_r_raw_factor = []\n",
    "# for i in ema_abs_r_raw_nums: \n",
    "#     data[\"abs_r_raw_ema\" + str(i)] = gb_unique_symbol[\"abs_r_raw\"].transform(lambda x: x.ewm(halflife = i).mean())\n",
    "#     ema_abs_r_raw_factor.append(\"abs_r_raw_ema\" + str(i))\n",
    "\n",
    "# print(\"------------------- MA square_r_raw---------------------\")\n",
    "# ma_square_r_raw_nums = list(range(1,16)) + [20, 30]\n",
    "# ma_square_r_raw_factor = []\n",
    "# for i in ma_square_r_raw_nums: \n",
    "#     data[\"square_r_raw_ma\" + str(i)] = gb_unique_symbol[\"square_r_raw\"].transform(lambda x: x.rolling(i).mean())\n",
    "#     ma_square_r_raw_factor.append(\"square_r_raw_ma\" + str(i))\n",
    "\n",
    "# print(\"------------------- MA abs_r---------------------\")\n",
    "# ma_abs_r_nums = list(range(1,16)) + [20, 30]\n",
    "# ma_abs_r_factor = []\n",
    "# for i in ma_abs_r_nums: \n",
    "#     data[\"abs_r_ma\" + str(i)] = gb_unique_symbol[\"abs_r\"].transform(lambda x: x.rolling(i).mean())\n",
    "#     ma_abs_r_factor.append(\"abs_r_ma\" + str(i))\n"
   ]
  },
  {
   "cell_type": "code",
   "execution_count": 7,
   "metadata": {},
   "outputs": [],
   "source": [
    "y_IH = list(data[\"index50_return\"])\n",
    "y_IF = list(data[\"index300_return\"])\n",
    "y_IC = list(data[\"index500_return\"])\n",
    "use_tag50 = list(data[\"use_tag50\"])\n",
    "use_tag300 = list(data[\"use_tag300\"])\n",
    "use_tag500 = list(data[\"use_tag500\"])\n",
    "y_index = []\n",
    "length = len(data)\n",
    "for i in range(length):\n",
    "    if use_tag50[i] == 1:\n",
    "        y_index.append(y_IH[i])\n",
    "        continue\n",
    "    if use_tag300[i] == 1:\n",
    "        y_index.append(y_IF[i])\n",
    "        continue\n",
    "    y_index.append(y_IC[i]) \n",
    "data[\"y_index\"] = y_index"
   ]
  },
  {
   "cell_type": "code",
   "execution_count": 8,
   "metadata": {},
   "outputs": [
    {
     "name": "stdout",
     "output_type": "stream",
     "text": [
      "-------------------------------------------------------- set Universe---------------------------------------------------------------\n",
      "----------------------------------------------------------- label ------------------------------------------------------------------\n",
      "0.011176004652351784\n",
      "0.011176004652351804\n",
      "--------------------------------------------------------- add factor ---------------------------------------------------------------\n"
     ]
    }
   ],
   "source": [
    "print(\"-------------------------------------------------------- set Universe---------------------------------------------------------------\")\n",
    "data = data[data[\"t+1_type\"]==0].copy()\n",
    "print(\"----------------------------------------------------------- label ------------------------------------------------------------------\")\n",
    "gb_date_time = data.groupby(['date_time'])\n",
    "data['return_std'] = gb_date_time[\"return\"].transform(lambda x: x.std())\n",
    "data[\"return_deindex\"] = data[\"return\"] - data[\"y_index\"]\n",
    "data['label'] = data[\"return_deindex\"]/data['return_std']\n",
    "data['mr'] = gb_date_time[\"return\"].transform(lambda x: x.mean())\n",
    "\n",
    "data[\"cont\"] = gb_date_time[\"unique_symbol\"].transform(lambda x: x.count())\n",
    "data[\"cont\"] = data[\"cont\"] + 1\n",
    "data[\"r_raw_uniform\"] = gb_date_time[\"r_raw\"].transform(lambda x: x.rank())\n",
    "data[\"r_raw_uniform\"] = data[\"r_raw_uniform\"] / data[\"cont\"]\n",
    "print(data[\"label\"].mean()) \n",
    "data = data[~data['label'].isnull()].copy()\n",
    "print(data[\"label\"].mean())\n",
    "\n",
    "print(\"--------------------------------------------------------- add factor ---------------------------------------------------------------\")\n",
    "gb_unique_symbol =  data.groupby(['unique_symbol'])\n",
    "gb_date_time =  data.groupby(['date_time'])\n",
    "ma_uniform_nums = list(range(1,6))\n",
    "ma_uniform_factor = []\n",
    "for i in ma_uniform_nums: \n",
    "    data[\"uniform_ma\" + str(i)] = gb_unique_symbol[\"r_raw_uniform\"].transform(lambda x: x.rolling(i).mean())\n",
    "    ma_uniform_factor.append(\"uniform_ma\" + str(i))\n",
    "        \n",
    "data[\"r1_distribute\"] = gb_date_time[\"r1\"].transform(lambda x: (x-x.mean())/x.std())\n",
    "\n",
    "data[\"turnover_rank\"] = gb_date_time['turnover'].transform( lambda x:x.rank())\n",
    "data[\"turnover_norm\"] = data[\"turnover_rank\"] / data[\"cont\"]\n",
    "data[\"turnover_norm\"] = data[\"turnover_norm\"].apply(lambda x: InverseNormalCDF(x))\n",
    "\n",
    "data[\"volume_rank\"] = gb_date_time['volume'].transform( lambda x:x.rank())\n",
    "data[\"volume_norm\"] = data[\"volume_rank\"] / data[\"cont\"]\n",
    "data[\"volume_norm\"] = data[\"volume_norm\"].apply(lambda x: InverseNormalCDF(x))\n",
    "\n",
    "data[\"close_rank\"] = gb_date_time['close'].transform( lambda x:x.rank())\n",
    "data[\"close_norm\"] = data[\"close_rank\"] / data[\"cont\"]\n",
    "data[\"close_norm\"] = data[\"close_norm\"].apply(lambda x: InverseNormalCDF(x))\n",
    "\n",
    "data[\"r\"] = data[\"close\"]/ data[\"open\"] - 1\n",
    "data[\"r_distribute\"] = gb_date_time[\"r\"].transform(lambda x: (x-x.mean())/x.std())\n",
    "data[\"amplitude_ratio\"] =  abs((data[\"close\"] - data[\"open\"])/(data[\"high\"] - data[\"low\"]))\n",
    "data[\"amplitude_ratio\"] = data[\"amplitude_ratio\"].fillna(0)\n",
    "data[\"amplitude\"] = (data[\"high\"] - data[\"low\"]) / data[\"close\"]\n",
    "\n",
    "data[\"std\"] = gb_date_time[\"return_std\"].transform(lambda x: x.shift(1))\n",
    "data[\"std_ma2\"] = gb_unique_symbol[\"std\"].transform(lambda x: x.rolling(2).mean())\n",
    "data[\"std_ma3\"] = gb_unique_symbol[\"std\"].transform(lambda x: x.rolling(3).mean())\n",
    "data[\"std_ma4\"] = gb_unique_symbol[\"std\"].transform(lambda x: x.rolling(4).mean())\n",
    "data[\"std_ma5\"] = gb_unique_symbol[\"std\"].transform(lambda x: x.rolling(5).mean())\n",
    "data[\"std_ma6\"] = gb_unique_symbol[\"std\"].transform(lambda x: x.rolling(6).mean())\n",
    "data[\"std_ma7\"] = gb_unique_symbol[\"std\"].transform(lambda x: x.rolling(7).mean())\n",
    "data[\"std_ma8\"] = gb_unique_symbol[\"std\"].transform(lambda x: x.rolling(8).mean())\n",
    "data[\"std_ma10\"] = gb_unique_symbol[\"std\"].transform(lambda x: x.rolling(10).mean())\n",
    "data[\"std_ma15\"] = gb_unique_symbol[\"std\"].transform(lambda x: x.rolling(15).mean())"
   ]
  },
  {
   "cell_type": "code",
   "execution_count": null,
   "metadata": {},
   "outputs": [],
   "source": []
  },
  {
   "cell_type": "code",
   "execution_count": null,
   "metadata": {},
   "outputs": [],
   "source": [
    "data.groupby([\"date_time\"])[\"return_std\"].mean().rolling(30).mean().plot(label =4)"
   ]
  },
  {
   "cell_type": "code",
   "execution_count": null,
   "metadata": {},
   "outputs": [],
   "source": [
    "plt.rcParams['figure.figsize'] = (10, 10)\n",
    "data.groupby([\"date_time\"])[\"return\"].std().rolling(130).mean().plot(label =1)\n",
    "data.groupby([\"date_time\"])[\"return\"].mean().rolling(130).std().plot(label =4)\n",
    "plt.legend()"
   ]
  },
  {
   "cell_type": "code",
   "execution_count": null,
   "metadata": {},
   "outputs": [],
   "source": [
    "plt.rcParams['figure.figsize'] = (10, 10)\n",
    "data.groupby([\"date_time\"])[\"turnover_s_ma1\"].std().rolling(1).mean().plot(label =1)\n",
    "data.groupby([\"date_time\"])[\"turnover_s_ma1\"].std().rolling(10).mean().plot(label =2)\n",
    "data.groupby([\"date_time\"])[\"turnover_s_ma1\"].std().ewm(halflife =30).mean().plot(label =3)\n",
    "data.groupby([\"date_time\"])[\"turnover_s_ma1\"].mean().rolling(30).mean().plot(label =4)\n",
    "plt.legend()"
   ]
  },
  {
   "cell_type": "code",
   "execution_count": null,
   "metadata": {},
   "outputs": [],
   "source": [
    "# base = [[\"r_raw_ma1\", \"r_raw_ma2\", \"r_raw_ma3\", \"r_raw_ma4\", \"r_raw_ma5\", \"r_raw_ma7\", \"r_raw_ma20\",\n",
    "#         \"r_ma1\",\"r_ma2\",\"r_ma3\",\"r_ma6\",\"r_ma9\",'abs_r_raw_ma1','abs_r_raw_ma3','abs_r_raw_ma4','abs_r_raw_ma5']]\n",
    "# add1 = list(itertools.combinations(ma_abs_r_raw_factor, 1))\n",
    "# add1 = [list(i) for i in add1]\n",
    "# factor_group_l = combine_mult(base, add1)\n",
    "# print(len(factor_group_l))\n",
    "# factor_group_l"
   ]
  },
  {
   "cell_type": "code",
   "execution_count": 9,
   "metadata": {},
   "outputs": [],
   "source": [
    "use_f = []\n",
    "use_f1 = [\"r_raw_ma1\", \"r_raw_ma2\", \"r_raw_ma3\", \"r_raw_ma4\", \"r_raw_ma5\",\"r_raw_ma7\", \"r_raw_ma20\"]\n",
    "use_f2 = [\"r_ma1\", \"r_ma2\",\"r_ma3\", \"r_ma6\", \"r_ma9\",]\n",
    "use_f3 = [\"abs_r_raw_ma1\", \"abs_r_raw_ma3\", \"abs_r_raw_ma4\", \"abs_r_raw_ma5\", \"abs_r_raw_ma10\"]\n",
    "use_f4 = [\"r1\", \"r1_ma2\", \"r1_distribute\"]\n",
    "use_f5 = [\"r_IC_ma1\", \"r_IC_ma5\", \"r_IC_ma7\"] + ma_rr_factor\n",
    "use_f6 = [\"close_norm\", \"volume_norm\", \"turnover_norm\"]\n",
    "use_f7 = ma_volume_factor\n",
    "use_f8 = [\"r\", \"r_distribute\", \"amplitude\", \"amplitude_ratio\"]\n",
    "use_f9 = [\"Turnover_ma1\", \"Turnover_ma2\", \"Turnover_ma3\", \"Turnover_ma4\", \"Turnover_ma5\", \"Turnover_ma10\"]\n",
    "use_f = use_f + use_f1 + use_f2 + use_f3 + use_f5 + use_f6 + use_f7 + use_f8 + use_f9\n",
    "use_f = use_f + use_f4\n",
    "# use_f = use_f + [\"abs_r_IC_ma1\",\"abs_r_IC_ma2\",\"abs_r_IC_ma3\",\"abs_r_IC_ma4\",\"abs_r_IC_ma5\"]\n",
    "use_f = use_f + [\"std\", \"std_ma2\", \"std_ma3\", \"std_ma4\", \"std_ma5\"]"
   ]
  },
  {
   "cell_type": "code",
   "execution_count": null,
   "metadata": {},
   "outputs": [],
   "source": [
    "# gb = data.groupby([\"date_time\"])\n",
    "# need_deVolatility = use_f8  \n",
    "# for f in need_deVolatility:\n",
    "#     print(f)\n",
    "#     data[\"temp_std\"] = gb[f].transform(lambda x : x.std())\n",
    "#     data[\"temp_std\"] = gb[\"temp_std\"].transform(lambda x: x.ewm(halflife = 5).mean()) \n",
    "#     data[f] = data[f]/data[\"temp_std\"]"
   ]
  },
  {
   "cell_type": "code",
   "execution_count": 10,
   "metadata": {
    "scrolled": false
   },
   "outputs": [
    {
     "name": "stderr",
     "output_type": "stream",
     "text": [
      "{'max_depth': 6, 'subsample': 0.8, 'colsample_bytree': 0.8, 'alpha': 100, 'nthread': 20, 'num_parallel_tree': 10, 'tree_method': 'gpu_hist', 'gpu_id': 0}\n",
      "factor:r_raw_ma1|r_raw_ma2|r_raw_ma3|r_raw_ma4|r_raw_ma5|r_raw_ma7|r_raw_ma20|r_ma1|r_ma2|r_ma3|r_ma6|r_ma9|abs_r_raw_ma1|abs_r_raw_ma3|abs_r_raw_ma4|abs_r_raw_ma5|abs_r_raw_ma10|r_IC_ma1|r_IC_ma5|r_IC_ma7|rr_high_ma1|rr_low_ma1|rr_wap_ma1|rr_open_ma1|rr_high_ma2|rr_low_ma2|rr_wap_ma2|rr_open_ma2|rr_high_ma3|rr_low_ma3|rr_wap_ma3|rr_open_ma3|rr_high_ma4|rr_low_ma4|rr_wap_ma4|rr_open_ma4|rr_high_ma5|rr_low_ma5|rr_wap_ma5|rr_open_ma5|close_norm|volume_norm|turnover_norm|volume_s_ma1|turnover_s_ma1|volume_s_ma2|turnover_s_ma2|volume_s_ma3|turnover_s_ma3|volume_s_ma4|turnover_s_ma4|volume_s_ma5|turnover_s_ma5|r|r_distribute|amplitude|amplitude_ratio|Turnover_ma1|Turnover_ma2|Turnover_ma3|Turnover_ma4|Turnover_ma5|Turnover_ma10|r1|r1_ma2|r1_distribute|std|std_ma2|std_ma3|std_ma4|std_ma5\n"
     ]
    },
    {
     "name": "stdout",
     "output_type": "stream",
     "text": [
      "71\n",
      "{'max_depth': 6, 'subsample': 0.8, 'colsample_bytree': 0.8, 'alpha': 100, 'nthread': 20, 'num_parallel_tree': 10, 'tree_method': 'gpu_hist', 'gpu_id': 0}\n",
      "-------------------- train -----------------------\n",
      "[0]\ttrain-rmse:1.05514\teval-rmse:1.05382\n",
      "Multiple eval metrics have been passed: 'eval-rmse' will be used for early stopping.\n",
      "\n",
      "Will train until eval-rmse hasn't improved in 30 rounds.\n",
      "[1]\ttrain-rmse:1.02595\teval-rmse:1.02491\n",
      "[2]\ttrain-rmse:1.01069\teval-rmse:1.01004\n",
      "[3]\ttrain-rmse:1.00272\teval-rmse:1.00225\n",
      "[4]\ttrain-rmse:0.99832\teval-rmse:0.99802\n",
      "[5]\ttrain-rmse:0.99570\teval-rmse:0.99542\n",
      "[6]\ttrain-rmse:0.99415\teval-rmse:0.99393\n",
      "[7]\ttrain-rmse:0.99307\teval-rmse:0.99284\n",
      "[8]\ttrain-rmse:0.99221\teval-rmse:0.99197\n",
      "[9]\ttrain-rmse:0.99160\teval-rmse:0.99138\n",
      "[10]\ttrain-rmse:0.99107\teval-rmse:0.99092\n",
      "[11]\ttrain-rmse:0.99059\teval-rmse:0.99049\n",
      "[12]\ttrain-rmse:0.99009\teval-rmse:0.99004\n",
      "[13]\ttrain-rmse:0.98967\teval-rmse:0.98960\n",
      "[14]\ttrain-rmse:0.98925\teval-rmse:0.98922\n",
      "[15]\ttrain-rmse:0.98884\teval-rmse:0.98885\n",
      "[16]\ttrain-rmse:0.98844\teval-rmse:0.98848\n",
      "[17]\ttrain-rmse:0.98809\teval-rmse:0.98823\n",
      "[18]\ttrain-rmse:0.98777\teval-rmse:0.98795\n",
      "[19]\ttrain-rmse:0.98746\teval-rmse:0.98769\n",
      "[20]\ttrain-rmse:0.98702\teval-rmse:0.98728\n",
      "[21]\ttrain-rmse:0.98675\teval-rmse:0.98703\n",
      "[22]\ttrain-rmse:0.98644\teval-rmse:0.98672\n",
      "[23]\ttrain-rmse:0.98618\teval-rmse:0.98649\n",
      "[24]\ttrain-rmse:0.98582\teval-rmse:0.98611\n",
      "[25]\ttrain-rmse:0.98553\teval-rmse:0.98582\n",
      "[26]\ttrain-rmse:0.98523\teval-rmse:0.98559\n",
      "[27]\ttrain-rmse:0.98494\teval-rmse:0.98537\n",
      "[28]\ttrain-rmse:0.98467\teval-rmse:0.98516\n",
      "[29]\ttrain-rmse:0.98444\teval-rmse:0.98500\n",
      "[30]\ttrain-rmse:0.98415\teval-rmse:0.98479\n",
      "[31]\ttrain-rmse:0.98384\teval-rmse:0.98456\n",
      "[32]\ttrain-rmse:0.98360\teval-rmse:0.98438\n",
      "[33]\ttrain-rmse:0.98336\teval-rmse:0.98420\n",
      "[34]\ttrain-rmse:0.98312\teval-rmse:0.98401\n",
      "[35]\ttrain-rmse:0.98286\teval-rmse:0.98381\n",
      "[36]\ttrain-rmse:0.98259\teval-rmse:0.98360\n",
      "[37]\ttrain-rmse:0.98233\teval-rmse:0.98338\n",
      "[38]\ttrain-rmse:0.98212\teval-rmse:0.98324\n",
      "[39]\ttrain-rmse:0.98189\teval-rmse:0.98309\n",
      "[40]\ttrain-rmse:0.98170\teval-rmse:0.98297\n",
      "[41]\ttrain-rmse:0.98149\teval-rmse:0.98285\n",
      "[42]\ttrain-rmse:0.98128\teval-rmse:0.98271\n",
      "[43]\ttrain-rmse:0.98106\teval-rmse:0.98255\n",
      "[44]\ttrain-rmse:0.98082\teval-rmse:0.98236\n",
      "[45]\ttrain-rmse:0.98062\teval-rmse:0.98222\n",
      "[46]\ttrain-rmse:0.98045\teval-rmse:0.98209\n",
      "[47]\ttrain-rmse:0.98025\teval-rmse:0.98193\n",
      "[48]\ttrain-rmse:0.98001\teval-rmse:0.98174\n",
      "[49]\ttrain-rmse:0.97974\teval-rmse:0.98155\n",
      "[50]\ttrain-rmse:0.97958\teval-rmse:0.98146\n",
      "[51]\ttrain-rmse:0.97943\teval-rmse:0.98136\n",
      "[52]\ttrain-rmse:0.97927\teval-rmse:0.98125\n",
      "[53]\ttrain-rmse:0.97908\teval-rmse:0.98110\n",
      "[54]\ttrain-rmse:0.97888\teval-rmse:0.98099\n",
      "[55]\ttrain-rmse:0.97867\teval-rmse:0.98086\n",
      "[56]\ttrain-rmse:0.97850\teval-rmse:0.98083\n",
      "[57]\ttrain-rmse:0.97829\teval-rmse:0.98067\n",
      "[58]\ttrain-rmse:0.97808\teval-rmse:0.98053\n",
      "[59]\ttrain-rmse:0.97792\teval-rmse:0.98044\n",
      "[60]\ttrain-rmse:0.97774\teval-rmse:0.98029\n",
      "[61]\ttrain-rmse:0.97754\teval-rmse:0.98015\n",
      "[62]\ttrain-rmse:0.97732\teval-rmse:0.98003\n",
      "[63]\ttrain-rmse:0.97714\teval-rmse:0.97989\n",
      "[64]\ttrain-rmse:0.97694\teval-rmse:0.97973\n",
      "[65]\ttrain-rmse:0.97676\teval-rmse:0.97961\n",
      "[66]\ttrain-rmse:0.97659\teval-rmse:0.97952\n",
      "[67]\ttrain-rmse:0.97644\teval-rmse:0.97945\n",
      "[68]\ttrain-rmse:0.97627\teval-rmse:0.97935\n",
      "[69]\ttrain-rmse:0.97611\teval-rmse:0.97925\n",
      "[70]\ttrain-rmse:0.97592\teval-rmse:0.97912\n",
      "[71]\ttrain-rmse:0.97577\teval-rmse:0.97903\n",
      "[72]\ttrain-rmse:0.97563\teval-rmse:0.97892\n",
      "[73]\ttrain-rmse:0.97549\teval-rmse:0.97882\n",
      "[74]\ttrain-rmse:0.97532\teval-rmse:0.97870\n",
      "[75]\ttrain-rmse:0.97517\teval-rmse:0.97861\n",
      "[76]\ttrain-rmse:0.97501\teval-rmse:0.97850\n",
      "[77]\ttrain-rmse:0.97486\teval-rmse:0.97840\n",
      "[78]\ttrain-rmse:0.97473\teval-rmse:0.97834\n",
      "[79]\ttrain-rmse:0.97458\teval-rmse:0.97824\n",
      "[80]\ttrain-rmse:0.97444\teval-rmse:0.97814\n",
      "[81]\ttrain-rmse:0.97428\teval-rmse:0.97808\n",
      "[82]\ttrain-rmse:0.97411\teval-rmse:0.97795\n",
      "[83]\ttrain-rmse:0.97399\teval-rmse:0.97786\n",
      "[84]\ttrain-rmse:0.97386\teval-rmse:0.97780\n",
      "[85]\ttrain-rmse:0.97374\teval-rmse:0.97773\n",
      "[86]\ttrain-rmse:0.97360\teval-rmse:0.97763\n",
      "[87]\ttrain-rmse:0.97346\teval-rmse:0.97757\n",
      "[88]\ttrain-rmse:0.97332\teval-rmse:0.97749\n",
      "[89]\ttrain-rmse:0.97320\teval-rmse:0.97744\n",
      "[90]\ttrain-rmse:0.97305\teval-rmse:0.97735\n",
      "[91]\ttrain-rmse:0.97292\teval-rmse:0.97729\n",
      "[92]\ttrain-rmse:0.97279\teval-rmse:0.97719\n",
      "[93]\ttrain-rmse:0.97264\teval-rmse:0.97705\n",
      "[94]\ttrain-rmse:0.97253\teval-rmse:0.97698\n",
      "[95]\ttrain-rmse:0.97240\teval-rmse:0.97690\n",
      "[96]\ttrain-rmse:0.97226\teval-rmse:0.97685\n",
      "[97]\ttrain-rmse:0.97212\teval-rmse:0.97674\n",
      "[98]\ttrain-rmse:0.97200\teval-rmse:0.97669\n",
      "[99]\ttrain-rmse:0.97186\teval-rmse:0.97660\n",
      "[100]\ttrain-rmse:0.97173\teval-rmse:0.97655\n",
      "[101]\ttrain-rmse:0.97160\teval-rmse:0.97646\n",
      "[102]\ttrain-rmse:0.97146\teval-rmse:0.97635\n",
      "[103]\ttrain-rmse:0.97134\teval-rmse:0.97625\n",
      "[104]\ttrain-rmse:0.97120\teval-rmse:0.97619\n",
      "[105]\ttrain-rmse:0.97108\teval-rmse:0.97613\n",
      "[106]\ttrain-rmse:0.97094\teval-rmse:0.97603\n",
      "[107]\ttrain-rmse:0.97082\teval-rmse:0.97597\n",
      "[108]\ttrain-rmse:0.97070\teval-rmse:0.97592\n",
      "[109]\ttrain-rmse:0.97058\teval-rmse:0.97584\n",
      "[110]\ttrain-rmse:0.97045\teval-rmse:0.97573\n",
      "[111]\ttrain-rmse:0.97034\teval-rmse:0.97568\n",
      "[112]\ttrain-rmse:0.97022\teval-rmse:0.97560\n",
      "[113]\ttrain-rmse:0.97011\teval-rmse:0.97555\n",
      "[114]\ttrain-rmse:0.96998\teval-rmse:0.97547\n",
      "[115]\ttrain-rmse:0.96987\teval-rmse:0.97543\n",
      "[116]\ttrain-rmse:0.96976\teval-rmse:0.97538\n",
      "[117]\ttrain-rmse:0.96965\teval-rmse:0.97531\n",
      "[118]\ttrain-rmse:0.96953\teval-rmse:0.97525\n",
      "[119]\ttrain-rmse:0.96941\teval-rmse:0.97517\n",
      "[120]\ttrain-rmse:0.96928\teval-rmse:0.97510\n",
      "[121]\ttrain-rmse:0.96917\teval-rmse:0.97508\n",
      "[122]\ttrain-rmse:0.96907\teval-rmse:0.97504\n",
      "[123]\ttrain-rmse:0.96895\teval-rmse:0.97495\n",
      "[124]\ttrain-rmse:0.96881\teval-rmse:0.97486\n",
      "[125]\ttrain-rmse:0.96868\teval-rmse:0.97478\n",
      "[126]\ttrain-rmse:0.96857\teval-rmse:0.97471\n",
      "[127]\ttrain-rmse:0.96844\teval-rmse:0.97459\n",
      "[128]\ttrain-rmse:0.96833\teval-rmse:0.97455\n",
      "[129]\ttrain-rmse:0.96820\teval-rmse:0.97446\n",
      "[130]\ttrain-rmse:0.96808\teval-rmse:0.97437\n",
      "[131]\ttrain-rmse:0.96798\teval-rmse:0.97432\n",
      "[132]\ttrain-rmse:0.96788\teval-rmse:0.97430\n",
      "[133]\ttrain-rmse:0.96778\teval-rmse:0.97423\n",
      "[134]\ttrain-rmse:0.96769\teval-rmse:0.97419\n",
      "[135]\ttrain-rmse:0.96758\teval-rmse:0.97413\n",
      "[136]\ttrain-rmse:0.96747\teval-rmse:0.97406\n",
      "[137]\ttrain-rmse:0.96737\teval-rmse:0.97400\n",
      "[138]\ttrain-rmse:0.96727\teval-rmse:0.97394\n",
      "[139]\ttrain-rmse:0.96716\teval-rmse:0.97388\n",
      "[140]\ttrain-rmse:0.96704\teval-rmse:0.97381\n",
      "[141]\ttrain-rmse:0.96693\teval-rmse:0.97376\n",
      "[142]\ttrain-rmse:0.96679\teval-rmse:0.97367\n",
      "[143]\ttrain-rmse:0.96668\teval-rmse:0.97360\n",
      "[144]\ttrain-rmse:0.96657\teval-rmse:0.97355\n",
      "[145]\ttrain-rmse:0.96647\teval-rmse:0.97351\n",
      "[146]\ttrain-rmse:0.96637\teval-rmse:0.97349\n",
      "[147]\ttrain-rmse:0.96626\teval-rmse:0.97341\n",
      "[148]\ttrain-rmse:0.96618\teval-rmse:0.97338\n",
      "[149]\ttrain-rmse:0.96606\teval-rmse:0.97331\n",
      "[150]\ttrain-rmse:0.96595\teval-rmse:0.97326\n",
      "[151]\ttrain-rmse:0.96582\teval-rmse:0.97315\n",
      "[152]\ttrain-rmse:0.96571\teval-rmse:0.97309\n",
      "[153]\ttrain-rmse:0.96563\teval-rmse:0.97304\n",
      "[154]\ttrain-rmse:0.96553\teval-rmse:0.97298\n",
      "[155]\ttrain-rmse:0.96542\teval-rmse:0.97295\n",
      "[156]\ttrain-rmse:0.96532\teval-rmse:0.97291\n",
      "[157]\ttrain-rmse:0.96520\teval-rmse:0.97284\n",
      "[158]\ttrain-rmse:0.96509\teval-rmse:0.97276\n",
      "[159]\ttrain-rmse:0.96499\teval-rmse:0.97272\n",
      "[160]\ttrain-rmse:0.96489\teval-rmse:0.97268\n",
      "[161]\ttrain-rmse:0.96482\teval-rmse:0.97263\n",
      "[162]\ttrain-rmse:0.96474\teval-rmse:0.97260\n",
      "[163]\ttrain-rmse:0.96463\teval-rmse:0.97257\n",
      "[164]\ttrain-rmse:0.96452\teval-rmse:0.97250\n",
      "[165]\ttrain-rmse:0.96442\teval-rmse:0.97243\n",
      "[166]\ttrain-rmse:0.96432\teval-rmse:0.97239\n",
      "[167]\ttrain-rmse:0.96423\teval-rmse:0.97233\n",
      "[168]\ttrain-rmse:0.96414\teval-rmse:0.97230\n",
      "[169]\ttrain-rmse:0.96404\teval-rmse:0.97225\n",
      "[170]\ttrain-rmse:0.96395\teval-rmse:0.97220\n",
      "[171]\ttrain-rmse:0.96385\teval-rmse:0.97213\n",
      "[172]\ttrain-rmse:0.96374\teval-rmse:0.97210\n",
      "[173]\ttrain-rmse:0.96366\teval-rmse:0.97208\n",
      "[174]\ttrain-rmse:0.96357\teval-rmse:0.97202\n",
      "[175]\ttrain-rmse:0.96348\teval-rmse:0.97198\n",
      "[176]\ttrain-rmse:0.96337\teval-rmse:0.97193\n",
      "[177]\ttrain-rmse:0.96330\teval-rmse:0.97189\n",
      "[178]\ttrain-rmse:0.96320\teval-rmse:0.97184\n",
      "[179]\ttrain-rmse:0.96308\teval-rmse:0.97179\n",
      "[180]\ttrain-rmse:0.96299\teval-rmse:0.97174\n",
      "[181]\ttrain-rmse:0.96291\teval-rmse:0.97170\n",
      "[182]\ttrain-rmse:0.96282\teval-rmse:0.97164\n",
      "[183]\ttrain-rmse:0.96271\teval-rmse:0.97159\n",
      "[184]\ttrain-rmse:0.96261\teval-rmse:0.97154\n"
     ]
    },
    {
     "name": "stdout",
     "output_type": "stream",
     "text": [
      "[185]\ttrain-rmse:0.96253\teval-rmse:0.97150\n",
      "[186]\ttrain-rmse:0.96244\teval-rmse:0.97145\n",
      "[187]\ttrain-rmse:0.96232\teval-rmse:0.97142\n",
      "[188]\ttrain-rmse:0.96222\teval-rmse:0.97138\n",
      "[189]\ttrain-rmse:0.96213\teval-rmse:0.97134\n",
      "[190]\ttrain-rmse:0.96205\teval-rmse:0.97132\n",
      "[191]\ttrain-rmse:0.96197\teval-rmse:0.97127\n",
      "[192]\ttrain-rmse:0.96187\teval-rmse:0.97122\n",
      "[193]\ttrain-rmse:0.96179\teval-rmse:0.97119\n",
      "[194]\ttrain-rmse:0.96172\teval-rmse:0.97115\n",
      "[195]\ttrain-rmse:0.96163\teval-rmse:0.97110\n",
      "[196]\ttrain-rmse:0.96155\teval-rmse:0.97105\n",
      "[197]\ttrain-rmse:0.96146\teval-rmse:0.97102\n",
      "[198]\ttrain-rmse:0.96138\teval-rmse:0.97099\n",
      "[199]\ttrain-rmse:0.96130\teval-rmse:0.97095\n"
     ]
    },
    {
     "name": "stderr",
     "output_type": "stream",
     "text": [
      "\n",
      "test_set2015:0.13689355339824555\n",
      "test_set2016:0.1539703256591623\n",
      "test_set2017:0.1308334142867283\n",
      "test_set2018:0.1103763493363885\n",
      "test_set2019:0.08336113849332766\n",
      "test_all_corrcoef:0.12283141017480001\n",
      "test_all_corrcoef_Nodemean:0.12710117513147634\n",
      "\n",
      "\n",
      "val_set2014:0.20042231968680707\n",
      "val_set2015:0.2946086178103875\n",
      "val__all_corrcoef:0.23037345068208345\n",
      "val__all_corrcoef_Nodemean:0.26510945716915674\n",
      "\n",
      "\n",
      "train_set2010:0.31293886324678644\n",
      "train_set2011:0.28271422600885737\n",
      "train_set2012:0.2773489029832574\n",
      "train_set2013:0.28106939618334686\n",
      "train_set2014:0.2678017112933097\n",
      "train_corrcoef:0.2909816006661733\n",
      "train_corrcoef_Nodemean:0.3074564448883593\n",
      "\n",
      "tree_nums:2000\n",
      "/usr/local/lib/python3.6/dist-packages/numpy/lib/function_base.py:2522: RuntimeWarning: Degrees of freedom <= 0 for slice\n",
      "  c = cov(x, y, rowvar)\n",
      "/usr/local/lib/python3.6/dist-packages/numpy/lib/function_base.py:2451: RuntimeWarning: divide by zero encountered in true_divide\n",
      "  c *= np.true_divide(1, fact)\n",
      "/usr/local/lib/python3.6/dist-packages/numpy/lib/function_base.py:2451: RuntimeWarning: invalid value encountered in multiply\n",
      "  c *= np.true_divide(1, fact)\n",
      "/usr/local/lib/python3.6/dist-packages/numpy/lib/function_base.py:392: RuntimeWarning: Mean of empty slice.\n",
      "  avg = a.mean(axis)\n",
      "/usr/local/lib/python3.6/dist-packages/numpy/core/_methods.py:78: RuntimeWarning: invalid value encountered in true_divide\n",
      "  ret, rcount, out=ret, casting='unsafe', subok=False)\n",
      "pred auto corr2015:0.17690826604119889\n",
      "return auto corr2015:-0.03308595869115045\n",
      "pred auto corr2016:0.12946732419740464\n",
      "return auto corr2016:-0.04584693225808599\n",
      "pred auto corr2017:0.148593151296885\n",
      "return auto corr2017:-0.03874264261691925\n",
      "pred auto corr2018:0.13964354352333275\n",
      "return auto corr2018:-0.051888025242891996\n",
      "pred auto corr:0.17791971540643145\n",
      "return auto corr:-0.039009708451954436\n"
     ]
    }
   ],
   "source": [
    "# 批量训练\n",
    "print(len(use_f))\n",
    "imp.reload(logging)\n",
    "t1 = datetime.datetime(2010,1,1)\n",
    "t2 = datetime.datetime(2014,6,1)\n",
    "t3 = datetime.datetime(2015,6,1)\n",
    "t4 = datetime.datetime(2019,7,1)\n",
    "\n",
    "\n",
    "params = {\n",
    "            'max_depth': 6,\n",
    "            'subsample': 0.8,\n",
    "            'colsample_bytree': 0.8,\n",
    "            'alpha': 100,\n",
    "            \"nthread\": 20,\n",
    "            \"num_parallel_tree\":10,\n",
    "            \"tree_method\": 'gpu_hist',\n",
    "            \"gpu_id\":0,\n",
    "#             \"max_bin\":64\n",
    "#             \"min_child_weight\": 1000\n",
    "        }\n",
    "print(params)\n",
    "early = 30\n",
    "num_rounds = 200\n",
    "split_type = \"random\"\n",
    "imp.reload(utils_x)\n",
    "bst = utils_x.single_train(data, use_f, t1, t2, t3, t4, params, early, num_rounds, split_type)"
   ]
  },
  {
   "cell_type": "code",
   "execution_count": null,
   "metadata": {},
   "outputs": [],
   "source": [
    "tb = datetime.datetime(2018,5,27)\n",
    "te = datetime.datetime(2018,6,12)\n",
    "imp.reload(utils_x)\n",
    "utils_x.pos_neg_corr(data, use_f, tb, te, bst)"
   ]
  },
  {
   "cell_type": "code",
   "execution_count": 11,
   "metadata": {
    "scrolled": false
   },
   "outputs": [
    {
     "name": "stdout",
     "output_type": "stream",
     "text": [
      "0.12921862674070966\n"
     ]
    },
    {
     "data": {
      "image/png": "[encoded data removed]",
      "text/plain": [
       "<Figure size 576x576 with 1 Axes>"
      ]
     },
     "metadata": {},
     "output_type": "display_data"
    },
    {
     "data": {
      "image/png": "[encoded data removed]",
      "text/plain": [
       "<Figure size 576x576 with 1 Axes>"
      ]
     },
     "metadata": {},
     "output_type": "display_data"
    },
    {
     "data": {
      "image/png": "[encoded data removed]",
      "text/plain": [
       "<Figure size 576x576 with 1 Axes>"
      ]
     },
     "metadata": {},
     "output_type": "display_data"
    },
    {
     "data": {
      "image/png": "[encoded data removed]",
      "text/plain": [
       "<Figure size 576x576 with 1 Axes>"
      ]
     },
     "metadata": {},
     "output_type": "display_data"
    },
    {
     "data": {
      "image/png": "[encoded data removed]",
      "text/plain": [
       "<Figure size 576x576 with 1 Axes>"
      ]
     },
     "metadata": {},
     "output_type": "display_data"
    },
    {
     "data": {
      "image/png": "[encoded data removed]",
      "text/plain": [
       "<Figure size 576x576 with 1 Axes>"
      ]
     },
     "metadata": {},
     "output_type": "display_data"
    },
    {
     "data": {
      "image/png": "[encoded data removed]",
      "text/plain": [
       "<Figure size 576x576 with 1 Axes>"
      ]
     },
     "metadata": {},
     "output_type": "display_data"
    }
   ],
   "source": [
    "tb = datetime.datetime(2015,6,1)\n",
    "te = datetime.datetime(2019,7,1)\n",
    "imp.reload(utils_x)\n",
    "data_sim = utils_x.pnl_plot(tb, te, data, use_f, bst)"
   ]
  },
  {
   "cell_type": "code",
   "execution_count": 40,
   "metadata": {},
   "outputs": [
    {
     "data": {
      "text/plain": [
       "764"
      ]
     },
     "execution_count": 40,
     "metadata": {},
     "output_type": "execute_result"
    }
   ],
   "source": [
    "len(set(data[(data[\"unique_symbol\"] < 600000) & (data[\"unique_symbol\"] >= 300000)][\"unique_symbol\"]))"
   ]
  },
  {
   "cell_type": "code",
   "execution_count": null,
   "metadata": {},
   "outputs": [],
   "source": []
  },
  {
   "cell_type": "code",
   "execution_count": null,
   "metadata": {},
   "outputs": [],
   "source": []
  },
  {
   "cell_type": "code",
   "execution_count": null,
   "metadata": {},
   "outputs": [],
   "source": []
  },
  {
   "cell_type": "code",
   "execution_count": null,
   "metadata": {},
   "outputs": [],
   "source": [
    "tb = datetime.datetime(2018,1,1)\n",
    "te = datetime.datetime(2018,12,12)\n",
    "p1 = data_sim[(data_sim[\"date_time\"]>=tb) & (data_sim[\"date_time\"]<=te)].sort_values(by=[\"preds\"], ascending=False)"
   ]
  },
  {
   "cell_type": "code",
   "execution_count": null,
   "metadata": {},
   "outputs": [],
   "source": [
    "len(p1)/50"
   ]
  },
  {
   "cell_type": "code",
   "execution_count": null,
   "metadata": {},
   "outputs": [],
   "source": [
    "p1[[\"date_time\", \"unique_symbol\", \"return\", \"preds\", \"limit_tag\"]].head(720)[\"return\"].mean()"
   ]
  },
  {
   "cell_type": "code",
   "execution_count": null,
   "metadata": {},
   "outputs": [],
   "source": [
    "p1.head(720)[\"y_index\"].mean()"
   ]
  },
  {
   "cell_type": "code",
   "execution_count": null,
   "metadata": {},
   "outputs": [],
   "source": [
    "p1.head(720)[\"mr\"].mean()"
   ]
  },
  {
   "cell_type": "code",
   "execution_count": null,
   "metadata": {},
   "outputs": [],
   "source": [
    "p1.head(720)[\"future500_return\"].mean()"
   ]
  },
  {
   "cell_type": "code",
   "execution_count": null,
   "metadata": {},
   "outputs": [],
   "source": [
    "p1[\"return\"].mean()"
   ]
  },
  {
   "cell_type": "code",
   "execution_count": null,
   "metadata": {},
   "outputs": [],
   "source": [
    "p1[\"y_index\"].mean()"
   ]
  },
  {
   "cell_type": "code",
   "execution_count": null,
   "metadata": {},
   "outputs": [],
   "source": [
    "p1[\"future500_return\"].mean()"
   ]
  },
  {
   "cell_type": "code",
   "execution_count": null,
   "metadata": {},
   "outputs": [],
   "source": []
  },
  {
   "cell_type": "code",
   "execution_count": null,
   "metadata": {},
   "outputs": [],
   "source": []
  },
  {
   "cell_type": "code",
   "execution_count": null,
   "metadata": {},
   "outputs": [],
   "source": []
  },
  {
   "cell_type": "code",
   "execution_count": null,
   "metadata": {},
   "outputs": [],
   "source": [
    "pp = data_sim[data_sim[\"date_time\"].dt.year == 2019].sort_values(by=[\"preds\"], ascending=False)\n",
    "pp[[\"date_time\", \"unique_symbol\", \"return\", \"preds\", \"limit_tag\", \"t+1_open\", \"t+2_open\", \"t+2_adjustment\"]].head(50)"
   ]
  },
  {
   "cell_type": "code",
   "execution_count": null,
   "metadata": {},
   "outputs": [],
   "source": [
    "factor_yhat_corr(bst, data, use_f, t1, t3)"
   ]
  },
  {
   "cell_type": "code",
   "execution_count": null,
   "metadata": {},
   "outputs": [],
   "source": []
  },
  {
   "cell_type": "code",
   "execution_count": null,
   "metadata": {},
   "outputs": [],
   "source": []
  },
  {
   "cell_type": "code",
   "execution_count": null,
   "metadata": {},
   "outputs": [],
   "source": [
    "# 单次训练分析\n",
    "early = 30\n",
    "t1 = datetime.datetime(2010,1,1)\n",
    "t2 = datetime.datetime(2014,6,1)\n",
    "t3 = datetime.datetime(2015,6,1)\n",
    "t4 = datetime.datetime(2018,1,1)\n",
    "data_tr = data[ (data[\"date_time\"] >= t1) & (data[\"date_time\"] < t2)].copy()\n",
    "data_te = data[ (data[\"date_time\"] >= t2) & (data[\"date_time\"] < t3)].copy()\n",
    "data_fin = data[ (data[\"date_time\"] >= t3) & (data[\"date_time\"] < t4)].copy()"
   ]
  },
  {
   "cell_type": "code",
   "execution_count": null,
   "metadata": {},
   "outputs": [],
   "source": [
    "data_fin = utils_x.get_preds(data_fin, use_f, bst)"
   ]
  },
  {
   "cell_type": "code",
   "execution_count": null,
   "metadata": {},
   "outputs": [],
   "source": [
    "data_fin.loc[2842905:,[\"r1\",\"date_time\",\"unique_symbol\",\"preds\",\"close\",\"return\",\"label\",\"t+1_open\", \"t+2_open\", \"limit_tag\"]]"
   ]
  },
  {
   "cell_type": "code",
   "execution_count": null,
   "metadata": {},
   "outputs": [],
   "source": [
    "data_fin[data_fin[\"limit_tag\"]>1.099]"
   ]
  },
  {
   "cell_type": "code",
   "execution_count": null,
   "metadata": {},
   "outputs": [],
   "source": []
  },
  {
   "cell_type": "code",
   "execution_count": null,
   "metadata": {},
   "outputs": [],
   "source": [
    "df_tree = bst.trees_to_dataframe()"
   ]
  },
  {
   "cell_type": "code",
   "execution_count": null,
   "metadata": {},
   "outputs": [],
   "source": [
    "plt.rcParams['figure.figsize'] = (8, 8)\n",
    "plt.tick_params(labelsize=12)\n",
    "f_importance_bar(importance_dic)"
   ]
  },
  {
   "cell_type": "code",
   "execution_count": null,
   "metadata": {},
   "outputs": [],
   "source": [
    "import shap\n",
    "explainer = shap.TreeExplainer(bst)\n",
    "shap_values = explainer.shap_values(data_tr[use_f])\n",
    "shap.summary_plot(shap_values, data[use_f], plot_type=\"bar\")"
   ]
  },
  {
   "cell_type": "code",
   "execution_count": null,
   "metadata": {},
   "outputs": [],
   "source": []
  },
  {
   "cell_type": "code",
   "execution_count": null,
   "metadata": {},
   "outputs": [],
   "source": [
    "all_tree_rounds = bst.best_ntree_limit + early\n",
    "tr_step = []\n",
    "te_step = []\n",
    "fin_step = []\n",
    "for i in range(1, all_tree_rounds):\n",
    "    if i % 5==0:\n",
    "        print(\"Tree numbers：\" ,i ,\"best_ntree_limit:\", bst.best_ntree_limit, \"early_stop:\", early)\n",
    "    temp1 = bst.predict( xgb.DMatrix(data_tr[use_f]),ntree_limit= i)\n",
    "    temp2 = bst.predict( xgb.DMatrix(data_te[use_f]),ntree_limit= i)\n",
    "    temp3 = bst.predict( xgb.DMatrix(data_fin[use_f]),ntree_limit= i)\n",
    "    corrcoef1 = np.corrcoef(temp1, data_tr[\"return\"] - data_tr[\"mr\"])[0,1]\n",
    "    corrcoef2 = np.corrcoef(temp2, data_te[\"return\"] - data_te[\"mr\"])[0,1]\n",
    "    corrcoef3 = np.corrcoef(temp3, data_fin[\"return\"] - data_fin[\"mr\"])[0,1]\n",
    "    tr_rmse = ((temp1 - data_tr[\"label\"])*(temp1 - data_tr[\"label\"])).mean()\n",
    "    te_rmse = ((temp2 - data_te[\"label\"])*(temp2 - data_te[\"label\"])).mean()\n",
    "    fin_rmse = ((temp3 - data_fin[\"label\"])*(temp3 - data_fin[\"label\"])).mean()\n",
    "    tr_step.append([tr_rmse, corrcoef1])\n",
    "    te_step.append([te_rmse, corrcoef2])\n",
    "    fin_step.append([fin_rmse, corrcoef3])"
   ]
  },
  {
   "cell_type": "code",
   "execution_count": null,
   "metadata": {},
   "outputs": [],
   "source": [
    "plt.rcParams['figure.figsize'] = (8, 8)\n",
    "plt.plot(np.array(tr_step)[:,0], label=\"Train\")\n",
    "plt.plot(np.array(te_step)[:,0], label=\"Val\")\n",
    "plt.plot(np.array(fin_step)[:,0], label=\"Test\")\n",
    "plt.xlabel(\"Tree Numbers\")\n",
    "plt.ylabel(\"RMSE\")\n",
    "plt.vlines(bst.best_ntree_limit, 0.94, 1, colors = \"c\", linestyles = \"dashed\")\n",
    "plt.legend()"
   ]
  },
  {
   "cell_type": "code",
   "execution_count": null,
   "metadata": {},
   "outputs": [],
   "source": [
    "plt.rcParams['figure.figsize'] = (8, 8)\n",
    "plt.plot(np.array(tr_step)[:,1], label=\"Train\")\n",
    "plt.plot(np.array(te_step)[:,1], label=\"Val\")\n",
    "plt.plot(np.array(fin_step)[:,1], label=\"Test\")\n",
    "plt.xlabel(\"Tree Numbers\")\n",
    "plt.ylabel(\"Corr\")\n",
    "plt.vlines(bst.best_ntree_limit, 0.05, 0.25, colors = \"c\", linestyles = \"dashed\")\n",
    "plt.legend()"
   ]
  },
  {
   "cell_type": "code",
   "execution_count": null,
   "metadata": {
    "scrolled": true
   },
   "outputs": [],
   "source": [
    "all_tree_rounds = bst.best_ntree_limit + early\n",
    "zero = []\n",
    "leave_node = []\n",
    "tree_node = []\n",
    "for tree_id in range(1, all_tree_rounds):\n",
    "    zero.append(df_tree[(df_tree[\"Tree\"] == tree_id)  & (df_tree[\"Feature\"] == \"Leaf\") & (df_tree[\"Gain\"] == 0)].shape[0])\n",
    "    leave_node.append(df_tree[(df_tree[\"Tree\"] == tree_id)  & (df_tree[\"Feature\"] == \"Leaf\")].shape[0])\n",
    "    tree_node.append(df_tree[(df_tree[\"Tree\"] == tree_id)].shape[0])"
   ]
  },
  {
   "cell_type": "code",
   "execution_count": null,
   "metadata": {},
   "outputs": [],
   "source": [
    "zero = np.array(zero)\n",
    "plt.rcParams['figure.figsize'] = (6, 6)\n",
    "leave_node = np.array(leave_node)\n",
    "tree_node = np.array(tree_node)\n",
    "plt.vlines(bst.best_ntree_limit, 0.35, 0.65, colors = \"r\", linestyles = \"dashed\")\n",
    "plt.xlabel(\"Tree Numbers\")\n",
    "plt.ylabel(\"z_ratio(zero_leave / leave)\")\n",
    "zr = np.mean(zero/leave_node)\n",
    "plt.text(10, 0.65, r\"z_ratio mean: %.2f\" %(zr) , fontsize=15)\n",
    "plt.plot(zero/leave_node)"
   ]
  },
  {
   "cell_type": "code",
   "execution_count": null,
   "metadata": {},
   "outputs": [],
   "source": [
    "plt.rcParams['figure.figsize'] = (6, 6)\n",
    "plt.text(20, 120, r\"Average leave_node: %.2f\" %(np.mean(leave_node)) , fontsize=15)\n",
    "plt.xlabel(\"Tree Numbers\")\n",
    "plt.ylabel(\"Leave_Node Nums\")\n",
    "plt.plot(tree_node)\n",
    "plt.vlines(bst.best_ntree_limit, 50, 120, colors = \"r\", linestyles = \"dashed\")"
   ]
  },
  {
   "cell_type": "code",
   "execution_count": null,
   "metadata": {},
   "outputs": [],
   "source": []
  },
  {
   "cell_type": "code",
   "execution_count": null,
   "metadata": {},
   "outputs": [],
   "source": []
  },
  {
   "cell_type": "code",
   "execution_count": null,
   "metadata": {},
   "outputs": [],
   "source": []
  },
  {
   "cell_type": "code",
   "execution_count": null,
   "metadata": {},
   "outputs": [],
   "source": [
    "tb = datetime.datetime(2015,6,1)\n",
    "te = datetime.datetime(2018,1,1)\n",
    "data_sim = data[ (data[\"date_time\"] >= tb) & (data[\"date_time\"] < te)]\n",
    "sim_pred =  bst.predict(xgb.DMatrix(data_sim[use_f]), ntree_limit= bst.best_ntree_limit)\n",
    "data_sim[\"preds\"] = sim_pred"
   ]
  },
  {
   "cell_type": "code",
   "execution_count": null,
   "metadata": {},
   "outputs": [],
   "source": [
    "plt.rcParams['figure.figsize'] = (4, 4)\n",
    "data_sim[\"preds\"].hist(bins= 100)"
   ]
  },
  {
   "cell_type": "code",
   "execution_count": null,
   "metadata": {},
   "outputs": [],
   "source": [
    "data_sim = data_sim.reset_index(drop=True)\n",
    "gb = data_sim.groupby(['date_time'])['preds']\n",
    "data_sim[\"pred_mean\"] = gb.transform(lambda x: x.mean())\n",
    "data_sim[\"preds\"] = data_sim[\"preds\"] - data_sim[\"pred_mean\"]"
   ]
  },
  {
   "cell_type": "code",
   "execution_count": null,
   "metadata": {},
   "outputs": [],
   "source": [
    "np.corrcoef(data_sim[\"preds\"], data_sim[\"return\"] - data_sim[\"mr\"])[0,1]"
   ]
  },
  {
   "cell_type": "code",
   "execution_count": null,
   "metadata": {},
   "outputs": [],
   "source": [
    "data_sim[\"preds\"].hist(bins= 100)"
   ]
  },
  {
   "cell_type": "code",
   "execution_count": null,
   "metadata": {},
   "outputs": [],
   "source": [
    "data_sim[\"preds+\"] = data_sim[\"preds\"].apply(lambda x: x if x>=0 else 0)\n",
    "plt.rcParams['figure.figsize'] = (8, 8)\n",
    "data_sim[\"pnl_byweightF1\"] = data_sim[\"preds+\"] * (data_sim[\"return\"] - data_sim[\"future500_return\"])\n",
    "data_sim[\"pnl_byweightI1\"] = data_sim[\"preds+\"] * (data_sim[\"return\"] - data_sim[\"index500_return\"])\n",
    "pnl_byweightF1 = data_sim.groupby(['date_time'])['pnl_byweightF1'].sum()*0.008\n",
    "pnl_byweightI1 = data_sim.groupby(['date_time'])['pnl_byweightI1'].sum()*0.008\n",
    "pnl_byweightF1.cumsum().plot(label = \"future\")\n",
    "pnl_byweightI1.cumsum().plot(label = \"index\")\n",
    "plt.legend()"
   ]
  },
  {
   "cell_type": "code",
   "execution_count": null,
   "metadata": {},
   "outputs": [],
   "source": [
    "data_sim[\"preds-\"] = data_sim[\"preds\"].apply(lambda x: x if x<=0 else 0)\n",
    "plt.rcParams['figure.figsize'] = (8, 8)\n",
    "data_sim[\"pnl_byweightI2\"] = data_sim[\"preds+\"] * (data_sim[\"return\"] - data_sim[\"index500_return\"])\n",
    "data_sim[\"pnl_byweightF2\"] =  data_sim[\"preds-\"] * (data_sim[\"return\"] - data_sim[\"future500_return\"])\n",
    "pnl_byweightF2 = data_sim.groupby(['date_time'])['pnl_byweightF2'].sum()*0.008\n",
    "pnl_byweightI2 = data_sim.groupby(['date_time'])['pnl_byweightI2'].sum()*0.008\n",
    "pnl_byweightF2.cumsum().plot(label = \"future\")\n",
    "pnl_byweightI2.cumsum().plot(label = \"index\")\n",
    "plt.legend()"
   ]
  },
  {
   "cell_type": "code",
   "execution_count": null,
   "metadata": {},
   "outputs": [],
   "source": [
    "plt.rcParams['figure.figsize'] = (8, 8)\n",
    "data_sim[\"pnl_byweightF\"] = data_sim[\"preds\"] * (data_sim[\"return\"] - data_sim[\"future500_return\"])\n",
    "pnl_byweightF = data_sim.groupby(['date_time'])['pnl_byweightF'].sum()*0.008\n",
    "pnl_byweightF.cumsum().plot(label = \"future\")\n",
    "plt.legend()"
   ]
  },
  {
   "cell_type": "code",
   "execution_count": null,
   "metadata": {},
   "outputs": [],
   "source": [
    "gb = data_sim.groupby([\"unique_symbol\"])\n",
    "data_sim[\"yesterday_preds\"] = gb[\"preds\"].shift(1)\n",
    "data_sim[\"preds\"] = data_sim.apply(lambda x: min(x[\"preds\"], x[\"yesterday_preds\"]) if x[\"r1\"] >= 0.099 else x[\"preds\"], axis=1)\n",
    "data_sim[\"preds\"] = data_sim.apply(lambda x: max(x[\"preds\"], x[\"yesterday_preds\"]) if x[\"r1\"] <= -0.099 else x[\"preds\"], axis=1)"
   ]
  },
  {
   "cell_type": "code",
   "execution_count": null,
   "metadata": {},
   "outputs": [],
   "source": [
    "data_sim[\"preds+\"] = data_sim[\"preds\"].apply(lambda x: x if x>=0 else 0)\n",
    "plt.rcParams['figure.figsize'] = (8, 8)\n",
    "data_sim[\"pnl_byweightF1\"] = data_sim[\"preds+\"] * (data_sim[\"return\"] - data_sim[\"future500_return\"])\n",
    "data_sim[\"pnl_byweightI1\"] = data_sim[\"preds+\"] * (data_sim[\"return\"] - data_sim[\"index500_return\"])\n",
    "pnl_byweightF1 = data_sim.groupby(['date_time'])['pnl_byweightF1'].sum()*0.008\n",
    "pnl_byweightI1 = data_sim.groupby(['date_time'])['pnl_byweightI1'].sum()*0.008\n",
    "pnl_byweightF1.cumsum().plot(label = \"future\")\n",
    "pnl_byweightI1.cumsum().plot(label = \"index\")\n",
    "plt.legend()"
   ]
  },
  {
   "cell_type": "code",
   "execution_count": null,
   "metadata": {},
   "outputs": [],
   "source": [
    "data_sim[\"preds-\"] = data_sim[\"preds\"].apply(lambda x: x if x<=0 else 0)\n",
    "plt.rcParams['figure.figsize'] = (8, 8)\n",
    "data_sim[\"pnl_byweightI2\"] = data_sim[\"preds+\"] * (data_sim[\"return\"] - data_sim[\"index500_return\"])\n",
    "data_sim[\"pnl_byweightF2\"] =  data_sim[\"preds-\"] * (data_sim[\"return\"] - data_sim[\"future500_return\"])\n",
    "pnl_byweightF2 = data_sim.groupby(['date_time'])['pnl_byweightF2'].sum()*0.008\n",
    "pnl_byweightI2 = data_sim.groupby(['date_time'])['pnl_byweightI2'].sum()*0.008\n",
    "pnl_byweightF2.cumsum().plot(label = \"future\")\n",
    "pnl_byweightI2.cumsum().plot(label = \"index\")\n",
    "plt.legend()"
   ]
  },
  {
   "cell_type": "code",
   "execution_count": null,
   "metadata": {},
   "outputs": [],
   "source": [
    "plt.rcParams['figure.figsize'] = (8, 8)\n",
    "data_sim[\"pnl_byweightF\"] = data_sim[\"preds\"] * (data_sim[\"return\"] - data_sim[\"future500_return\"])\n",
    "pnl_byweightF = data_sim.groupby(['date_time'])['pnl_byweightF'].sum()*0.008\n",
    "pnl_byweightF.cumsum().plot(label = \"future\")\n",
    "plt.legend()"
   ]
  },
  {
   "cell_type": "code",
   "execution_count": null,
   "metadata": {},
   "outputs": [],
   "source": []
  },
  {
   "cell_type": "markdown",
   "metadata": {},
   "source": [
    "## **生成sim所需要的forecast文件**"
   ]
  },
  {
   "cell_type": "code",
   "execution_count": 24,
   "metadata": {},
   "outputs": [
    {
     "name": "stdout",
     "output_type": "stream",
     "text": [
      "0 2737538\n",
      "5000 2737538\n",
      "10000 2737538\n",
      "15000 2737538\n",
      "20000 2737538\n",
      "25000 2737538\n",
      "30000 2737538\n",
      "35000 2737538\n",
      "40000 2737538\n",
      "45000 2737538\n",
      "50000 2737538\n",
      "55000 2737538\n",
      "60000 2737538\n",
      "65000 2737538\n",
      "70000 2737538\n",
      "75000 2737538\n",
      "80000 2737538\n",
      "85000 2737538\n",
      "90000 2737538\n",
      "95000 2737538\n",
      "100000 2737538\n",
      "105000 2737538\n",
      "110000 2737538\n",
      "115000 2737538\n",
      "120000 2737538\n",
      "125000 2737538\n",
      "130000 2737538\n",
      "135000 2737538\n",
      "140000 2737538\n",
      "145000 2737538\n",
      "150000 2737538\n",
      "155000 2737538\n",
      "160000 2737538\n",
      "165000 2737538\n",
      "170000 2737538\n",
      "175000 2737538\n",
      "180000 2737538\n",
      "185000 2737538\n",
      "190000 2737538\n",
      "195000 2737538\n",
      "200000 2737538\n",
      "205000 2737538\n",
      "210000 2737538\n",
      "215000 2737538\n",
      "220000 2737538\n",
      "225000 2737538\n",
      "230000 2737538\n",
      "235000 2737538\n",
      "240000 2737538\n",
      "245000 2737538\n",
      "250000 2737538\n",
      "255000 2737538\n",
      "260000 2737538\n",
      "265000 2737538\n",
      "270000 2737538\n",
      "275000 2737538\n",
      "280000 2737538\n",
      "285000 2737538\n",
      "290000 2737538\n",
      "295000 2737538\n",
      "300000 2737538\n",
      "305000 2737538\n",
      "310000 2737538\n",
      "315000 2737538\n",
      "320000 2737538\n",
      "325000 2737538\n",
      "330000 2737538\n",
      "335000 2737538\n",
      "340000 2737538\n",
      "345000 2737538\n",
      "350000 2737538\n",
      "355000 2737538\n",
      "360000 2737538\n",
      "365000 2737538\n",
      "370000 2737538\n",
      "375000 2737538\n",
      "380000 2737538\n",
      "385000 2737538\n",
      "390000 2737538\n",
      "395000 2737538\n",
      "400000 2737538\n",
      "405000 2737538\n",
      "410000 2737538\n",
      "415000 2737538\n",
      "420000 2737538\n",
      "425000 2737538\n",
      "430000 2737538\n",
      "435000 2737538\n",
      "440000 2737538\n",
      "445000 2737538\n",
      "450000 2737538\n",
      "455000 2737538\n",
      "460000 2737538\n",
      "465000 2737538\n",
      "470000 2737538\n",
      "475000 2737538\n",
      "480000 2737538\n",
      "485000 2737538\n",
      "490000 2737538\n",
      "495000 2737538\n",
      "500000 2737538\n",
      "505000 2737538\n",
      "510000 2737538\n",
      "515000 2737538\n",
      "520000 2737538\n",
      "525000 2737538\n",
      "530000 2737538\n",
      "535000 2737538\n",
      "540000 2737538\n",
      "545000 2737538\n",
      "550000 2737538\n",
      "555000 2737538\n",
      "560000 2737538\n",
      "565000 2737538\n",
      "570000 2737538\n",
      "575000 2737538\n",
      "580000 2737538\n",
      "585000 2737538\n",
      "590000 2737538\n",
      "595000 2737538\n",
      "600000 2737538\n",
      "605000 2737538\n",
      "610000 2737538\n",
      "615000 2737538\n",
      "620000 2737538\n",
      "625000 2737538\n",
      "630000 2737538\n",
      "635000 2737538\n",
      "640000 2737538\n",
      "645000 2737538\n",
      "650000 2737538\n",
      "655000 2737538\n",
      "660000 2737538\n",
      "665000 2737538\n",
      "670000 2737538\n",
      "675000 2737538\n",
      "680000 2737538\n",
      "685000 2737538\n",
      "690000 2737538\n",
      "695000 2737538\n",
      "700000 2737538\n",
      "705000 2737538\n",
      "710000 2737538\n",
      "715000 2737538\n",
      "720000 2737538\n",
      "725000 2737538\n",
      "730000 2737538\n",
      "735000 2737538\n",
      "740000 2737538\n",
      "745000 2737538\n",
      "750000 2737538\n",
      "755000 2737538\n",
      "760000 2737538\n",
      "765000 2737538\n",
      "770000 2737538\n",
      "775000 2737538\n",
      "780000 2737538\n",
      "785000 2737538\n",
      "790000 2737538\n",
      "795000 2737538\n",
      "800000 2737538\n",
      "805000 2737538\n",
      "810000 2737538\n",
      "815000 2737538\n",
      "820000 2737538\n",
      "825000 2737538\n",
      "830000 2737538\n",
      "835000 2737538\n",
      "840000 2737538\n",
      "845000 2737538\n",
      "850000 2737538\n",
      "855000 2737538\n",
      "860000 2737538\n",
      "865000 2737538\n",
      "870000 2737538\n",
      "875000 2737538\n",
      "880000 2737538\n",
      "885000 2737538\n",
      "890000 2737538\n",
      "895000 2737538\n",
      "900000 2737538\n",
      "905000 2737538\n",
      "910000 2737538\n",
      "915000 2737538\n",
      "920000 2737538\n",
      "925000 2737538\n",
      "930000 2737538\n",
      "935000 2737538\n",
      "940000 2737538\n",
      "945000 2737538\n",
      "950000 2737538\n",
      "955000 2737538\n",
      "960000 2737538\n",
      "965000 2737538\n",
      "970000 2737538\n",
      "975000 2737538\n",
      "980000 2737538\n",
      "985000 2737538\n",
      "990000 2737538\n",
      "995000 2737538\n",
      "1000000 2737538\n",
      "1005000 2737538\n",
      "1010000 2737538\n",
      "1015000 2737538\n",
      "1020000 2737538\n",
      "1025000 2737538\n",
      "1030000 2737538\n",
      "1035000 2737538\n",
      "1040000 2737538\n",
      "1045000 2737538\n",
      "1050000 2737538\n",
      "1055000 2737538\n",
      "1060000 2737538\n",
      "1065000 2737538\n",
      "1070000 2737538\n",
      "1075000 2737538\n",
      "1080000 2737538\n",
      "1085000 2737538\n",
      "1090000 2737538\n",
      "1095000 2737538\n",
      "1100000 2737538\n",
      "1105000 2737538\n",
      "1110000 2737538\n",
      "1115000 2737538\n",
      "1120000 2737538\n",
      "1125000 2737538\n",
      "1130000 2737538\n",
      "1135000 2737538\n",
      "1140000 2737538\n",
      "1145000 2737538\n",
      "1150000 2737538\n",
      "1155000 2737538\n",
      "1160000 2737538\n",
      "1165000 2737538\n",
      "1170000 2737538\n",
      "1175000 2737538\n",
      "1180000 2737538\n",
      "1185000 2737538\n",
      "1190000 2737538\n",
      "1195000 2737538\n",
      "1200000 2737538\n",
      "1205000 2737538\n",
      "1210000 2737538\n",
      "1215000 2737538\n",
      "1220000 2737538\n",
      "1225000 2737538\n",
      "1230000 2737538\n",
      "1235000 2737538\n",
      "1240000 2737538\n",
      "1245000 2737538\n",
      "1250000 2737538\n",
      "1255000 2737538\n",
      "1260000 2737538\n",
      "1265000 2737538\n",
      "1270000 2737538\n",
      "1275000 2737538\n",
      "1280000 2737538\n",
      "1285000 2737538\n",
      "1290000 2737538\n",
      "1295000 2737538\n",
      "1300000 2737538\n",
      "1305000 2737538\n",
      "1310000 2737538\n",
      "1315000 2737538\n",
      "1320000 2737538\n",
      "1325000 2737538\n",
      "1330000 2737538\n",
      "1335000 2737538\n",
      "1340000 2737538\n",
      "1345000 2737538\n",
      "1350000 2737538\n",
      "1355000 2737538\n",
      "1360000 2737538\n",
      "1365000 2737538\n",
      "1370000 2737538\n",
      "1375000 2737538\n",
      "1380000 2737538\n",
      "1385000 2737538\n",
      "1390000 2737538\n",
      "1395000 2737538\n",
      "1400000 2737538\n",
      "1405000 2737538\n",
      "1410000 2737538\n",
      "1415000 2737538\n",
      "1420000 2737538\n",
      "1425000 2737538\n",
      "1430000 2737538\n",
      "1435000 2737538\n",
      "1440000 2737538\n",
      "1445000 2737538\n",
      "1450000 2737538\n",
      "1455000 2737538\n",
      "1460000 2737538\n",
      "1465000 2737538\n",
      "1470000 2737538\n",
      "1475000 2737538\n",
      "1480000 2737538\n",
      "1485000 2737538\n",
      "1490000 2737538\n",
      "1495000 2737538\n",
      "1500000 2737538\n",
      "1505000 2737538\n",
      "1510000 2737538\n",
      "1515000 2737538\n",
      "1520000 2737538\n",
      "1525000 2737538\n",
      "1530000 2737538\n",
      "1535000 2737538\n",
      "1540000 2737538\n",
      "1545000 2737538\n",
      "1550000 2737538\n",
      "1555000 2737538\n",
      "1560000 2737538\n",
      "1565000 2737538\n",
      "1570000 2737538\n",
      "1575000 2737538\n",
      "1580000 2737538\n",
      "1585000 2737538\n",
      "1590000 2737538\n",
      "1595000 2737538\n",
      "1600000 2737538\n",
      "1605000 2737538\n",
      "1610000 2737538\n",
      "1615000 2737538\n",
      "1620000 2737538\n",
      "1625000 2737538\n",
      "1630000 2737538\n",
      "1635000 2737538\n",
      "1640000 2737538\n",
      "1645000 2737538\n",
      "1650000 2737538\n",
      "1655000 2737538\n",
      "1660000 2737538\n",
      "1665000 2737538\n",
      "1670000 2737538\n",
      "1675000 2737538\n",
      "1680000 2737538\n",
      "1685000 2737538\n",
      "1690000 2737538\n",
      "1695000 2737538\n",
      "1700000 2737538\n",
      "1705000 2737538\n",
      "1710000 2737538\n",
      "1715000 2737538\n",
      "1720000 2737538\n",
      "1725000 2737538\n",
      "1730000 2737538\n",
      "1735000 2737538\n",
      "1740000 2737538\n",
      "1745000 2737538\n",
      "1750000 2737538\n",
      "1755000 2737538\n",
      "1760000 2737538\n",
      "1765000 2737538\n",
      "1770000 2737538\n",
      "1775000 2737538\n",
      "1780000 2737538\n",
      "1785000 2737538\n",
      "1790000 2737538\n",
      "1795000 2737538\n",
      "1800000 2737538\n",
      "1805000 2737538\n",
      "1810000 2737538\n",
      "1815000 2737538\n",
      "1820000 2737538\n",
      "1825000 2737538\n",
      "1830000 2737538\n",
      "1835000 2737538\n",
      "1840000 2737538\n",
      "1845000 2737538\n",
      "1850000 2737538\n",
      "1855000 2737538\n",
      "1860000 2737538\n",
      "1865000 2737538\n",
      "1870000 2737538\n",
      "1875000 2737538\n",
      "1880000 2737538\n",
      "1885000 2737538\n",
      "1890000 2737538\n",
      "1895000 2737538\n",
      "1900000 2737538\n",
      "1905000 2737538\n",
      "1910000 2737538\n",
      "1915000 2737538\n",
      "1920000 2737538\n",
      "1925000 2737538\n",
      "1930000 2737538\n",
      "1935000 2737538\n",
      "1940000 2737538\n",
      "1945000 2737538\n",
      "1950000 2737538\n",
      "1955000 2737538\n",
      "1960000 2737538\n",
      "1965000 2737538\n",
      "1970000 2737538\n",
      "1975000 2737538\n",
      "1980000 2737538\n",
      "1985000 2737538\n",
      "1990000 2737538\n",
      "1995000 2737538\n",
      "2000000 2737538\n",
      "2005000 2737538\n",
      "2010000 2737538\n",
      "2015000 2737538\n",
      "2020000 2737538\n",
      "2025000 2737538\n",
      "2030000 2737538\n",
      "2035000 2737538\n",
      "2040000 2737538\n",
      "2045000 2737538\n",
      "2050000 2737538\n",
      "2055000 2737538\n",
      "2060000 2737538\n",
      "2065000 2737538\n",
      "2070000 2737538\n",
      "2075000 2737538\n",
      "2080000 2737538\n",
      "2085000 2737538\n",
      "2090000 2737538\n",
      "2095000 2737538\n",
      "2100000 2737538\n",
      "2105000 2737538\n",
      "2110000 2737538\n",
      "2115000 2737538\n",
      "2120000 2737538\n",
      "2125000 2737538\n",
      "2130000 2737538\n",
      "2135000 2737538\n",
      "2140000 2737538\n",
      "2145000 2737538\n",
      "2150000 2737538\n",
      "2155000 2737538\n",
      "2160000 2737538\n",
      "2165000 2737538\n",
      "2170000 2737538\n",
      "2175000 2737538\n",
      "2180000 2737538\n",
      "2185000 2737538\n",
      "2190000 2737538\n",
      "2195000 2737538\n",
      "2200000 2737538\n",
      "2205000 2737538\n",
      "2210000 2737538\n",
      "2215000 2737538\n",
      "2220000 2737538\n",
      "2225000 2737538\n",
      "2230000 2737538\n",
      "2235000 2737538\n",
      "2240000 2737538\n",
      "2245000 2737538\n",
      "2250000 2737538\n",
      "2255000 2737538\n",
      "2260000 2737538\n",
      "2265000 2737538\n",
      "2270000 2737538\n",
      "2275000 2737538\n",
      "2280000 2737538\n",
      "2285000 2737538\n",
      "2290000 2737538\n",
      "2295000 2737538\n",
      "2300000 2737538\n",
      "2305000 2737538\n",
      "2310000 2737538\n",
      "2315000 2737538\n",
      "2320000 2737538\n",
      "2325000 2737538\n",
      "2330000 2737538\n",
      "2335000 2737538\n",
      "2340000 2737538\n",
      "2345000 2737538\n",
      "2350000 2737538\n",
      "2355000 2737538\n",
      "2360000 2737538\n",
      "2365000 2737538\n",
      "2370000 2737538\n",
      "2375000 2737538\n",
      "2380000 2737538\n",
      "2385000 2737538\n",
      "2390000 2737538\n",
      "2395000 2737538\n",
      "2400000 2737538\n",
      "2405000 2737538\n",
      "2410000 2737538\n",
      "2415000 2737538\n",
      "2420000 2737538\n",
      "2425000 2737538\n",
      "2430000 2737538\n",
      "2435000 2737538\n",
      "2440000 2737538\n",
      "2445000 2737538\n",
      "2450000 2737538\n",
      "2455000 2737538\n",
      "2460000 2737538\n",
      "2465000 2737538\n",
      "2470000 2737538\n",
      "2475000 2737538\n",
      "2480000 2737538\n",
      "2485000 2737538\n",
      "2490000 2737538\n",
      "2495000 2737538\n",
      "2500000 2737538\n",
      "2505000 2737538\n",
      "2510000 2737538\n",
      "2515000 2737538\n",
      "2520000 2737538\n",
      "2525000 2737538\n",
      "2530000 2737538\n",
      "2535000 2737538\n",
      "2540000 2737538\n",
      "2545000 2737538\n",
      "2550000 2737538\n",
      "2555000 2737538\n",
      "2560000 2737538\n",
      "2565000 2737538\n",
      "2570000 2737538\n",
      "2575000 2737538\n",
      "2580000 2737538\n",
      "2585000 2737538\n",
      "2590000 2737538\n",
      "2595000 2737538\n",
      "2600000 2737538\n",
      "2605000 2737538\n",
      "2610000 2737538\n",
      "2615000 2737538\n",
      "2620000 2737538\n",
      "2625000 2737538\n",
      "2630000 2737538\n"
     ]
    },
    {
     "name": "stdout",
     "output_type": "stream",
     "text": [
      "2635000 2737538\n",
      "2640000 2737538\n",
      "2645000 2737538\n",
      "2650000 2737538\n",
      "2655000 2737538\n",
      "2660000 2737538\n",
      "2665000 2737538\n",
      "2670000 2737538\n",
      "2675000 2737538\n",
      "2680000 2737538\n",
      "2685000 2737538\n",
      "2690000 2737538\n",
      "2695000 2737538\n",
      "2700000 2737538\n",
      "2705000 2737538\n",
      "2710000 2737538\n",
      "2715000 2737538\n",
      "2720000 2737538\n",
      "2725000 2737538\n",
      "2730000 2737538\n",
      "2735000 2737538\n"
     ]
    }
   ],
   "source": [
    "sim_df = data_sim[[\"date_time\",\"preds\",\"unique_symbol\"]].copy()\n",
    "imp.reload(utils_x)\n",
    "forecast_df, forecast = utils_x.get_forecast(sim_df)"
   ]
  },
  {
   "cell_type": "code",
   "execution_count": null,
   "metadata": {},
   "outputs": [],
   "source": [
    "data_sim[\"preds\"].hist(bins =100)"
   ]
  },
  {
   "cell_type": "code",
   "execution_count": null,
   "metadata": {},
   "outputs": [],
   "source": [
    "sim_df = data_sim[[\"date_time\",\"return\",\"unique_symbol\"]].copy()\n",
    "imp.reload(utils_x)\n",
    "forecast_df, forecast = utils_x.get_return(sim_df)"
   ]
  },
  {
   "cell_type": "code",
   "execution_count": null,
   "metadata": {},
   "outputs": [],
   "source": [
    "plt.plot(forecast.sum(axis =0))"
   ]
  },
  {
   "cell_type": "code",
   "execution_count": null,
   "metadata": {},
   "outputs": [],
   "source": [
    "df = pd.read_csv('/home/huandong/sim_data/forecast.csv', header=None)"
   ]
  },
  {
   "cell_type": "code",
   "execution_count": null,
   "metadata": {},
   "outputs": [],
   "source": [
    "r_df = pd.read_csv('/home/huandong/sim_data/return.csv', header=None)"
   ]
  },
  {
   "cell_type": "code",
   "execution_count": null,
   "metadata": {},
   "outputs": [],
   "source": [
    "abs_df = abs(df)"
   ]
  },
  {
   "cell_type": "code",
   "execution_count": null,
   "metadata": {},
   "outputs": [],
   "source": [
    "pos_df = (abs_df + df)/2"
   ]
  },
  {
   "cell_type": "code",
   "execution_count": null,
   "metadata": {},
   "outputs": [],
   "source": [
    "(pos_df*r_df).mean(axis=1).cumsum().plot()"
   ]
  },
  {
   "cell_type": "code",
   "execution_count": null,
   "metadata": {},
   "outputs": [],
   "source": [
    "pos_df.sum()"
   ]
  },
  {
   "cell_type": "code",
   "execution_count": null,
   "metadata": {},
   "outputs": [],
   "source": []
  }
 ],
 "metadata": {
  "kernelspec": {
   "display_name": "Python 3",
   "language": "python",
   "name": "python3"
  },
  "language_info": {
   "codemirror_mode": {
    "name": "ipython",
    "version": 3
   },
   "file_extension": ".py",
   "mimetype": "text/x-python",
   "name": "python",
   "nbconvert_exporter": "python",
   "pygments_lexer": "ipython3",
   "version": "3.6.8"
  }
 },
 "nbformat": 4,
 "nbformat_minor": 2
}
